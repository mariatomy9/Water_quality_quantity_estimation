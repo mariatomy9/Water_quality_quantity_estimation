{
  "nbformat": 4,
  "nbformat_minor": 0,
  "metadata": {
    "colab": {
      "name": " Water_quality_quantity_estimation.ipynb",
      "provenance": [],
      "collapsed_sections": [],
      "toc_visible": true,
      "include_colab_link": true
    },
    "kernelspec": {
      "name": "python3",
      "display_name": "Python 3"
    }
  },
  "cells": [
    {
      "cell_type": "markdown",
      "metadata": {
        "id": "view-in-github",
        "colab_type": "text"
      },
      "source": [
        "<a href=\"https://colab.research.google.com/github/mariatomy9/Water_quality_quantity_estimation/blob/master/Water_quality_quantity_estimation.ipynb\" target=\"_parent\"><img src=\"https://colab.research.google.com/assets/colab-badge.svg\" alt=\"Open In Colab\"/></a>"
      ]
    },
    {
      "cell_type": "markdown",
      "metadata": {
        "id": "h4j6YOUNYllG",
        "colab_type": "text"
      },
      "source": [
        "# Project on Water Quality and Water Level Management System\n"
      ]
    },
    {
      "cell_type": "markdown",
      "metadata": {
        "id": "3ngIIGV7Y9bX",
        "colab_type": "text"
      },
      "source": [
        " ## Importing libraries"
      ]
    },
    {
      "cell_type": "code",
      "metadata": {
        "id": "KdOUvUwXqbew",
        "colab_type": "code",
        "colab": {
          "base_uri": "https://localhost:8080/",
          "height": 72
        },
        "outputId": "9c825606-2bed-4a3b-aff1-eac9208fbe64"
      },
      "source": [
        "import numpy as np\n",
        "import matplotlib.pyplot as plt\n",
        "import pandas as pd\n",
        "import seaborn as sns\n",
        "%matplotlib inline"
      ],
      "execution_count": null,
      "outputs": [
        {
          "output_type": "stream",
          "text": [
            "/usr/local/lib/python3.6/dist-packages/statsmodels/tools/_testing.py:19: FutureWarning: pandas.util.testing is deprecated. Use the functions in the public API at pandas.testing instead.\n",
            "  import pandas.util.testing as tm\n"
          ],
          "name": "stderr"
        }
      ]
    },
    {
      "cell_type": "markdown",
      "metadata": {
        "id": "FkOhIlOpZCyg",
        "colab_type": "text"
      },
      "source": [
        "## Preprocessing Data"
      ]
    },
    {
      "cell_type": "code",
      "metadata": {
        "id": "Tt4tVmPaqq30",
        "colab_type": "code",
        "colab": {}
      },
      "source": [
        "dataset = pd.read_csv('water_flow_sensor.csv')\n",
        "X = dataset.iloc[:, [1,2]].values\n",
        "y = dataset.iloc[:, 3].values"
      ],
      "execution_count": null,
      "outputs": []
    },
    {
      "cell_type": "code",
      "metadata": {
        "id": "x3HtV4Q6q1h4",
        "colab_type": "code",
        "colab": {}
      },
      "source": [
        "from sklearn.preprocessing import LabelEncoder\n",
        "le = LabelEncoder()\n",
        "y = le.fit_transform(y)"
      ],
      "execution_count": null,
      "outputs": []
    },
    {
      "cell_type": "code",
      "metadata": {
        "id": "o-UK_ALYVxAk",
        "colab_type": "code",
        "colab": {
          "base_uri": "https://localhost:8080/",
          "height": 87
        },
        "outputId": "b63a222c-6bec-4282-86f3-89d02d31eded"
      },
      "source": [
        "print(y)"
      ],
      "execution_count": null,
      "outputs": [
        {
          "output_type": "stream",
          "text": [
            "[1 2 0 1 2 0 2 1 1 0 2 1 0 0 2 1 0 0 1 2 0 2 0 1 0 2 1 2 0 2 0 0 2 1 1 1 0\n",
            " 2 0 2 0 0 1 2 0 0 1 1 2 0 1 0 2 0 1 0 2 1 0 2 2 0 1 0 2 2 1 0 1 0 0 0 2 0\n",
            " 1 1 2 0 0 1 0 1 2 0 0 1 2 1 1 0 2 0 1 2 2 2 0 0 1 1 0 2 1 0 1 2 2 0 0 1 2\n",
            " 1 0 1 2 0 0 1 2 1 2 0 2 1 1 2 0 0 1]\n"
          ],
          "name": "stdout"
        }
      ]
    },
    {
      "cell_type": "markdown",
      "metadata": {
        "id": "wNOgb00KZIr-",
        "colab_type": "text"
      },
      "source": [
        "## Splitting dataset into training set and test set"
      ]
    },
    {
      "cell_type": "code",
      "metadata": {
        "id": "ojwzQmtQV46j",
        "colab_type": "code",
        "colab": {}
      },
      "source": [
        "from sklearn.model_selection import train_test_split\n",
        "X_train, X_test, y_train, y_test = train_test_split(X, y, test_size = 0.2, random_state = 0)"
      ],
      "execution_count": null,
      "outputs": []
    },
    {
      "cell_type": "code",
      "metadata": {
        "id": "njkP7UwMWCJV",
        "colab_type": "code",
        "colab": {
          "base_uri": "https://localhost:8080/",
          "height": 69
        },
        "outputId": "badfc699-5e64-41f6-bba6-16e799288e23"
      },
      "source": [
        "print(y_train)"
      ],
      "execution_count": null,
      "outputs": [
        {
          "output_type": "stream",
          "text": [
            "[2 0 0 1 0 0 2 2 1 2 0 0 1 0 2 2 2 1 1 0 1 2 0 2 1 2 1 1 2 0 1 0 2 2 2 1 1\n",
            " 0 2 0 0 0 0 0 0 1 1 0 0 1 1 1 1 0 0 1 1 2 2 0 2 0 2 2 0 2 2 0 1 1 0 0 0 0\n",
            " 2 0 2 2 1 1 1 0 2 1 2 0 0 2 1 0 1 0 2 2 0 0 0 2 1 0 2 1 1]\n"
          ],
          "name": "stdout"
        }
      ]
    },
    {
      "cell_type": "code",
      "metadata": {
        "id": "OHHeik3pW01l",
        "colab_type": "code",
        "colab": {
          "base_uri": "https://localhost:8080/",
          "height": 35
        },
        "outputId": "75ece342-110a-4f5e-d265-dc50c881651e"
      },
      "source": [
        "print(y_test)"
      ],
      "execution_count": null,
      "outputs": [
        {
          "output_type": "stream",
          "text": [
            "[0 0 0 0 1 2 0 1 0 1 2 2 2 0 0 1 0 2 1 1 0 1 2 1 1 1]\n"
          ],
          "name": "stdout"
        }
      ]
    },
    {
      "cell_type": "markdown",
      "metadata": {
        "id": "fe9gHeqBZTnY",
        "colab_type": "text"
      },
      "source": [
        "## Feature Scaling"
      ]
    },
    {
      "cell_type": "code",
      "metadata": {
        "id": "65iGyeMp9epG",
        "colab_type": "code",
        "colab": {}
      },
      "source": [
        "from sklearn.preprocessing import MinMaxScaler\n",
        "norm = MinMaxScaler().fit(X_train)\n",
        "X_train = norm.transform(X_train)\n",
        "X_test = norm.transform(X_test)"
      ],
      "execution_count": null,
      "outputs": []
    },
    {
      "cell_type": "code",
      "metadata": {
        "id": "221C9RQstQtZ",
        "colab_type": "code",
        "colab": {
          "base_uri": "https://localhost:8080/",
          "height": 1000
        },
        "outputId": "e37a11f6-61a1-4da1-eaaa-8bf1c7e132cc"
      },
      "source": [
        "print(X_train)"
      ],
      "execution_count": null,
      "outputs": [
        {
          "output_type": "stream",
          "text": [
            "[[0.59225513 0.54546337]\n",
            " [0.63439636 0.43024692]\n",
            " [0.46127563 0.38072155]\n",
            " [0.08997722 0.6004154 ]\n",
            " [0.85763098 0.76152422]\n",
            " [0.63439636 0.76115863]\n",
            " [0.48063781 0.75875948]\n",
            " [0.40888383 0.65970874]\n",
            " [0.12870159 0.25111018]\n",
            " [0.38154897 0.87437579]\n",
            " [0.85990888 0.98725022]\n",
            " [0.41116173 0.38081295]\n",
            " [0.50455581 0.7729259 ]\n",
            " [0.61275626 0.65719534]\n",
            " [0.49316629 0.67250422]\n",
            " [0.46583144 0.54428665]\n",
            " [1.         0.21577523]\n",
            " [0.85990888 0.13962955]\n",
            " [0.72095672 0.88816521]\n",
            " [0.976082   0.25333796]\n",
            " [0.1309795  0.65701255]\n",
            " [0.19703872 0.50775098]\n",
            " [0.6070615  0.6953533 ]\n",
            " [0.43166287 0.96188774]\n",
            " [0.48063781 0.99139732]\n",
            " [0.25284738 0.59378916]\n",
            " [0.37243736 0.65856629]\n",
            " [0.         0.22849645]\n",
            " [0.38154897 0.65868053]\n",
            " [0.73348519 0.88816521]\n",
            " [0.18451025 0.54294998]\n",
            " [0.73348519 0.49505832]\n",
            " [0.38154897 0.76897301]\n",
            " [0.20387244 0.87306654]\n",
            " [0.85990888 0.78331081]\n",
            " [0.48063781 0.26407703]\n",
            " [0.09225513 0.76110151]\n",
            " [0.08997722 0.77403408]\n",
            " [0.98633257 0.51016155]\n",
            " [0.85990888 0.37305569]\n",
            " [0.72095672 0.26757865]\n",
            " [0.0022779  0.53037156]\n",
            " [0.42027335 0.63457476]\n",
            " [0.22779043 0.25379495]\n",
            " [0.32004556 0.26632766]\n",
            " [0.31776765 0.75007683]\n",
            " [0.12642369 0.50770528]\n",
            " [0.35421412 0.7575142 ]\n",
            " [0.18906606 0.87306197]\n",
            " [0.35421412 0.20169906]\n",
            " [0.11503417 0.43029262]\n",
            " [0.38610478 0.36304779]\n",
            " [0.98861048 0.88717127]\n",
            " [0.23006834 0.3551066 ]\n",
            " [0.18678815 0.19126845]\n",
            " [0.20387244 1.        ]\n",
            " [0.35763098 0.4795438 ]\n",
            " [0.35421412 0.12686834]\n",
            " [0.35421412 0.41849107]\n",
            " [0.75740319 0.90099496]\n",
            " [0.98974943 0.64702751]\n",
            " [0.46355353 0.26659043]\n",
            " [0.72323462 0.88472642]\n",
            " [0.         0.21313765]\n",
            " [0.41571754 0.43105806]\n",
            " [0.12528474 0.68541395]\n",
            " [0.17425968 0.12694488]\n",
            " [0.16287016 0.41590912]\n",
            " [0.29954442 0.88717127]\n",
            " [0.72779043 0.63457476]\n",
            " [0.29271071 0.        ]\n",
            " [0.67084282 0.36812029]\n",
            " [0.6070615  0.216832  ]\n",
            " [0.01252847 0.20169906]\n",
            " [0.26765376 0.88829888]\n",
            " [0.6070615  0.65868053]\n",
            " [0.38838269 0.75007683]\n",
            " [0.48063781 0.65879478]\n",
            " [0.72095672 0.36812371]\n",
            " [0.62528474 0.59653105]\n",
            " [0.43166287 0.9519484 ]\n",
            " [0.59453303 0.68541395]\n",
            " [0.40432802 0.36812029]\n",
            " [0.98633257 0.78012336]\n",
            " [0.35421412 0.98730734]\n",
            " [0.73348519 0.48233481]\n",
            " [0.37357631 0.60674802]\n",
            " [0.35421412 0.43110376]\n",
            " [0.73234624 0.88816064]\n",
            " [0.32004556 0.07612055]\n",
            " [0.73348519 0.36812029]\n",
            " [0.26879271 0.65868053]\n",
            " [0.64464692 0.6064704 ]\n",
            " [0.12870159 0.22972345]\n",
            " [0.18451025 0.12686834]\n",
            " [0.12984055 0.49873702]\n",
            " [0.6070615  0.88488637]\n",
            " [0.73234624 0.5558597 ]\n",
            " [0.06036446 0.50559174]\n",
            " [0.08314351 0.08616957]\n",
            " [0.35421412 0.50772242]\n",
            " [0.20842825 0.50764816]\n",
            " [0.43849658 0.97474035]]\n"
          ],
          "name": "stdout"
        }
      ]
    },
    {
      "cell_type": "markdown",
      "metadata": {
        "id": "4b5_dVBtZalA",
        "colab_type": "text"
      },
      "source": [
        "## Training the dataset using KNN Classification "
      ]
    },
    {
      "cell_type": "code",
      "metadata": {
        "id": "dZH1OkP-tSop",
        "colab_type": "code",
        "colab": {
          "base_uri": "https://localhost:8080/",
          "height": 69
        },
        "outputId": "3e6e14c3-8c78-4656-fc04-ce57a17a4e4c"
      },
      "source": [
        "from sklearn import metrics\n",
        "from sklearn.neighbors import KNeighborsClassifier\n",
        "knn = KNeighborsClassifier(n_neighbors=2)\n",
        "knn.fit(X, y)\n"
      ],
      "execution_count": null,
      "outputs": [
        {
          "output_type": "execute_result",
          "data": {
            "text/plain": [
              "KNeighborsClassifier(algorithm='auto', leaf_size=30, metric='minkowski',\n",
              "                     metric_params=None, n_jobs=None, n_neighbors=2, p=2,\n",
              "                     weights='uniform')"
            ]
          },
          "metadata": {
            "tags": []
          },
          "execution_count": 10
        }
      ]
    },
    {
      "cell_type": "code",
      "metadata": {
        "id": "gQX3J2k4akRk",
        "colab_type": "code",
        "colab": {
          "base_uri": "https://localhost:8080/",
          "height": 35
        },
        "outputId": "d90e7aa1-657d-4c17-ddfd-5a0a534572d4"
      },
      "source": [
        "y_pred = knn.predict(X)\n",
        "print(metrics.accuracy_score(y, y_pred))"
      ],
      "execution_count": null,
      "outputs": [
        {
          "output_type": "stream",
          "text": [
            "0.6511627906976745\n"
          ],
          "name": "stdout"
        }
      ]
    },
    {
      "cell_type": "code",
      "metadata": {
        "id": "SKaRTAzmaqpz",
        "colab_type": "code",
        "colab": {
          "base_uri": "https://localhost:8080/",
          "height": 69
        },
        "outputId": "f753bb43-d107-4813-a718-866b4d1ce523"
      },
      "source": [
        "from sklearn.metrics import confusion_matrix\n",
        "cm = confusion_matrix(y, y_pred)\n",
        "print(cm)"
      ],
      "execution_count": null,
      "outputs": [
        {
          "output_type": "stream",
          "text": [
            "[[50  0  0]\n",
            " [19 22  0]\n",
            " [10 16 12]]\n"
          ],
          "name": "stdout"
        }
      ]
    },
    {
      "cell_type": "markdown",
      "metadata": {
        "id": "TMJaql8_4Nrd",
        "colab_type": "text"
      },
      "source": [
        "## Data Visualisation"
      ]
    },
    {
      "cell_type": "code",
      "metadata": {
        "id": "0PUhysW-6hYE",
        "colab_type": "code",
        "colab": {}
      },
      "source": [
        "from sklearn.model_selection import cross_val_score\n",
        "k_list = list(range(1,50,2))\n",
        "# creating list of cv scores\n",
        "cv_scores = []\n",
        "\n",
        "# perform 10-fold cross validation\n",
        "for k in k_list:\n",
        "    knn = KNeighborsClassifier(n_neighbors=k)\n",
        "    scores = cross_val_score(knn, X_train, y_train, cv=10, scoring='accuracy')\n",
        "    cv_scores.append(scores.mean())"
      ],
      "execution_count": null,
      "outputs": []
    },
    {
      "cell_type": "code",
      "metadata": {
        "id": "Pu-FzYuSHN7x",
        "colab_type": "code",
        "colab": {
          "base_uri": "https://localhost:8080/",
          "height": 621
        },
        "outputId": "0d07ee94-9192-4a9b-f12f-8614c7ea0ba6"
      },
      "source": [
        "MSE = [1 - x for x in cv_scores]\n",
        "\n",
        "plt.figure()\n",
        "plt.figure(figsize=(15,10))\n",
        "plt.title('The optimal number of neighbors', fontsize=20, fontweight='bold')\n",
        "plt.xlabel('Number of Neighbors K', fontsize=15)\n",
        "plt.ylabel('Misclassification Error', fontsize=15)\n",
        "sns.set_style(\"whitegrid\")\n",
        "plt.plot(k_list, MSE)\n",
        "\n",
        "plt.show()"
      ],
      "execution_count": null,
      "outputs": [
        {
          "output_type": "display_data",
          "data": {
            "text/plain": [
              "<Figure size 432x288 with 0 Axes>"
            ]
          },
          "metadata": {
            "tags": []
          }
        },
        {
          "output_type": "display_data",
          "data": {
            "image/png": "[encoded data removed]",
            "text/plain": [
              "<Figure size 1080x720 with 1 Axes>"
            ]
          },
          "metadata": {
            "tags": [],
            "needs_background": "light"
          }
        }
      ]
    },
    {
      "cell_type": "code",
      "metadata": {
        "id": "JeVYU9y2JTL9",
        "colab_type": "code",
        "colab": {
          "base_uri": "https://localhost:8080/",
          "height": 297
        },
        "outputId": "2833fab6-6687-4acc-e899-a7777ad82e5e"
      },
      "source": [
        "import plotly.express as px\n",
        "!pip install plotly==4.5.2"
      ],
      "execution_count": null,
      "outputs": [
        {
          "output_type": "stream",
          "text": [
            "Collecting plotly==4.5.2\n",
            "\u001b[?25l  Downloading https://files.pythonhosted.org/packages/a9/12/7d795064f87d1070975e55daa443ff5e5ee7eb6c8a9eaf41f3d6a5f91a91/plotly-4.5.2-py2.py3-none-any.whl (7.1MB)\n",
            "\u001b[K     |████████████████████████████████| 7.1MB 4.5MB/s \n",
            "\u001b[?25hRequirement already satisfied: six in /usr/local/lib/python3.6/dist-packages (from plotly==4.5.2) (1.15.0)\n",
            "Requirement already satisfied: retrying>=1.3.3 in /usr/local/lib/python3.6/dist-packages (from plotly==4.5.2) (1.3.3)\n",
            "Installing collected packages: plotly\n",
            "  Found existing installation: plotly 4.4.1\n",
            "    Uninstalling plotly-4.4.1:\n",
            "      Successfully uninstalled plotly-4.4.1\n",
            "Successfully installed plotly-4.5.2\n"
          ],
          "name": "stdout"
        },
        {
          "output_type": "display_data",
          "data": {
            "application/vnd.colab-display-data+json": {
              "pip_warning": {
                "packages": [
                  "_plotly_utils",
                  "plotly"
                ]
              }
            }
          },
          "metadata": {
            "tags": []
          }
        }
      ]
    },
    {
      "cell_type": "code",
      "metadata": {
        "id": "6bZbopCQJ4iD",
        "colab_type": "code",
        "colab": {
          "base_uri": "https://localhost:8080/",
          "height": 542
        },
        "outputId": "c57f6b3f-8d65-46b2-da74-7aabbf3f69e8"
      },
      "source": [
        "px.scatter_3d(dataset,x='total',y='pH rating',z='Places',color='created_at')"
      ],
      "execution_count": null,
      "outputs": [
        {
          "output_type": "display_data",
          "data": {
            "text/html": [
              "<html>\n",
              "<head><meta charset=\"utf-8\" /></head>\n",
              "<body>\n",
              "    <div>\n",
              "            <script src=\"https://cdnjs.cloudflare.com/ajax/libs/mathjax/2.7.5/MathJax.js?config=TeX-AMS-MML_SVG\"></script><script type=\"text/javascript\">if (window.MathJax) {MathJax.Hub.Config({SVG: {font: \"STIX-Web\"}});}</script>\n",
              "                <script type=\"text/javascript\">window.PlotlyConfig = {MathJaxConfig: 'local'};</script>\n",
              "        <script src=\"https://cdn.plot.ly/plotly-latest.min.js\"></script>    \n",
              "            <div id=\"abdabe89-d4af-4bb4-b3ca-887698fdf6e6\" class=\"plotly-graph-div\" style=\"height:525px; width:100%;\"></div>\n",
              "            <script type=\"text/javascript\">\n",
              "                \n",
              "                    window.PLOTLYENV=window.PLOTLYENV || {};\n",
              "                    \n",
              "                if (document.getElementById(\"abdabe89-d4af-4bb4-b3ca-887698fdf6e6\")) {\n",
              "                    Plotly.newPlot(\n",
              "                        'abdabe89-d4af-4bb4-b3ca-887698fdf6e6',\n",
              "                        [{\"hoverlabel\": {\"namelength\": 0}, \"hovertemplate\": \"created_at=2020-03-03 05:54:36 UTC<br>total=%{x}<br>pH rating=%{y}<br>Places=%{z}\", \"legendgroup\": \"created_at=2020-03-03 05:54:36 UTC\", \"marker\": {\"color\": \"#636efa\", \"symbol\": \"circle\"}, \"mode\": \"markers\", \"name\": \"created_at=2020-03-03 05:54:36 UTC\", \"scene\": \"scene\", \"showlegend\": true, \"type\": \"scatter3d\", \"x\": [400], \"y\": [7.8], \"z\": [\"Kottukal\"]}, {\"hoverlabel\": {\"namelength\": 0}, \"hovertemplate\": \"created_at=2020-03-03 05:54:52 UTC<br>total=%{x}<br>pH rating=%{y}<br>Places=%{z}\", \"legendgroup\": \"created_at=2020-03-03 05:54:52 UTC\", \"marker\": {\"color\": \"#EF553B\", \"symbol\": \"circle\"}, \"mode\": \"markers\", \"name\": \"created_at=2020-03-03 05:54:52 UTC\", \"scene\": \"scene\", \"showlegend\": true, \"type\": \"scatter3d\", \"x\": [456], \"y\": [7.9654], \"z\": [\"Piripincode\"]}, {\"hoverlabel\": {\"namelength\": 0}, \"hovertemplate\": \"created_at=2020-03-03 05:55:08 UTC<br>total=%{x}<br>pH rating=%{y}<br>Places=%{z}\", \"legendgroup\": \"created_at=2020-03-03 05:55:08 UTC\", \"marker\": {\"color\": \"#00cc96\", \"symbol\": \"circle\"}, \"mode\": \"markers\", \"name\": \"created_at=2020-03-03 05:55:08 UTC\", \"scene\": \"scene\", \"showlegend\": true, \"type\": \"scatter3d\", \"x\": [765], \"y\": [7.111110000000001], \"z\": [\"Edakkode\"]}, {\"hoverlabel\": {\"namelength\": 0}, \"hovertemplate\": \"created_at=2020-03-03 05:55:25 UTC<br>total=%{x}<br>pH rating=%{y}<br>Places=%{z}\", \"legendgroup\": \"created_at=2020-03-03 05:55:25 UTC\", \"marker\": {\"color\": \"#ab63fa\", \"symbol\": \"circle\"}, \"mode\": \"markers\", \"name\": \"created_at=2020-03-03 05:55:25 UTC\", \"scene\": \"scene\", \"showlegend\": true, \"type\": \"scatter3d\", \"x\": [564], \"y\": [8.0], \"z\": [\"Kottukal\"]}, {\"hoverlabel\": {\"namelength\": 0}, \"hovertemplate\": \"created_at=2020-03-03 05:55:41 UTC<br>total=%{x}<br>pH rating=%{y}<br>Places=%{z}\", \"legendgroup\": \"created_at=2020-03-03 05:55:41 UTC\", \"marker\": {\"color\": \"#FFA15A\", \"symbol\": \"circle\"}, \"mode\": \"markers\", \"name\": \"created_at=2020-03-03 05:55:41 UTC\", \"scene\": \"scene\", \"showlegend\": true, \"type\": \"scatter3d\", \"x\": [987], \"y\": [5.7], \"z\": [\"Piripincode\"]}, {\"hoverlabel\": {\"namelength\": 0}, \"hovertemplate\": \"created_at=2020-03-03 05:55:57 UTC<br>total=%{x}<br>pH rating=%{y}<br>Places=%{z}\", \"legendgroup\": \"created_at=2020-03-03 05:55:57 UTC\", \"marker\": {\"color\": \"#19d3f3\", \"symbol\": \"circle\"}, \"mode\": \"markers\", \"name\": \"created_at=2020-03-03 05:55:57 UTC\", \"scene\": \"scene\", \"showlegend\": true, \"type\": \"scatter3d\", \"x\": [123], \"y\": [5.8769], \"z\": [\"Edakkode\"]}, {\"hoverlabel\": {\"namelength\": 0}, \"hovertemplate\": \"created_at=2020-03-03 05:56:13 UTC<br>total=%{x}<br>pH rating=%{y}<br>Places=%{z}\", \"legendgroup\": \"created_at=2020-03-03 05:56:13 UTC\", \"marker\": {\"color\": \"#FF6692\", \"symbol\": \"circle\"}, \"mode\": \"markers\", \"name\": \"created_at=2020-03-03 05:56:13 UTC\", \"scene\": \"scene\", \"showlegend\": true, \"type\": \"scatter3d\", \"x\": [554], \"y\": [7.121], \"z\": [\"Piripincode\"]}, {\"hoverlabel\": {\"namelength\": 0}, \"hovertemplate\": \"created_at=2020-03-03 05:56:30 UTC<br>total=%{x}<br>pH rating=%{y}<br>Places=%{z}\", \"legendgroup\": \"created_at=2020-03-03 05:56:30 UTC\", \"marker\": {\"color\": \"#B6E880\", \"symbol\": \"circle\"}, \"mode\": \"markers\", \"name\": \"created_at=2020-03-03 05:56:30 UTC\", \"scene\": \"scene\", \"showlegend\": true, \"type\": \"scatter3d\", \"x\": [765], \"y\": [7.0012], \"z\": [\"Kottukal\"]}, {\"hoverlabel\": {\"namelength\": 0}, \"hovertemplate\": \"created_at=2020-03-03 05:56:46 UTC<br>total=%{x}<br>pH rating=%{y}<br>Places=%{z}\", \"legendgroup\": \"created_at=2020-03-03 05:56:46 UTC\", \"marker\": {\"color\": \"#FF97FF\", \"symbol\": \"circle\"}, \"mode\": \"markers\", \"name\": \"created_at=2020-03-03 05:56:46 UTC\", \"scene\": \"scene\", \"showlegend\": true, \"type\": \"scatter3d\", \"x\": [231], \"y\": [8.06], \"z\": [\"Kottukal\"]}, {\"hoverlabel\": {\"namelength\": 0}, \"hovertemplate\": \"created_at=2020-03-03 05:57:02 UTC<br>total=%{x}<br>pH rating=%{y}<br>Places=%{z}\", \"legendgroup\": \"created_at=2020-03-03 05:57:02 UTC\", \"marker\": {\"color\": \"#FECB52\", \"symbol\": \"circle\"}, \"mode\": \"markers\", \"name\": \"created_at=2020-03-03 05:57:02 UTC\", \"scene\": \"scene\", \"showlegend\": true, \"type\": \"scatter3d\", \"x\": [235], \"y\": [5.6], \"z\": [\"Edakkode\"]}, {\"hoverlabel\": {\"namelength\": 0}, \"hovertemplate\": \"created_at=2020-03-03 05:57:19 UTC<br>total=%{x}<br>pH rating=%{y}<br>Places=%{z}\", \"legendgroup\": \"created_at=2020-03-03 05:57:19 UTC\", \"marker\": {\"color\": \"#636efa\", \"symbol\": \"circle\"}, \"mode\": \"markers\", \"name\": \"created_at=2020-03-03 05:57:19 UTC\", \"scene\": \"scene\", \"showlegend\": true, \"type\": \"scatter3d\", \"x\": [435], \"y\": [6.007999999999999], \"z\": [\"Piripincode\"]}, {\"hoverlabel\": {\"namelength\": 0}, \"hovertemplate\": \"created_at=2020-03-03 05:57:35 UTC<br>total=%{x}<br>pH rating=%{y}<br>Places=%{z}\", \"legendgroup\": \"created_at=2020-03-03 05:57:35 UTC\", \"marker\": {\"color\": \"#EF553B\", \"symbol\": \"circle\"}, \"mode\": \"markers\", \"name\": \"created_at=2020-03-03 05:57:35 UTC\", \"scene\": \"scene\", \"showlegend\": true, \"type\": \"scatter3d\", \"x\": [448], \"y\": [6.999], \"z\": [\"Kottukal\"]}, {\"hoverlabel\": {\"namelength\": 0}, \"hovertemplate\": \"created_at=2020-03-03 06:01:05 UTC<br>total=%{x}<br>pH rating=%{y}<br>Places=%{z}\", \"legendgroup\": \"created_at=2020-03-03 06:01:05 UTC\", \"marker\": {\"color\": \"#00cc96\", \"symbol\": \"circle\"}, \"mode\": \"markers\", \"name\": \"created_at=2020-03-03 06:01:05 UTC\", \"scene\": \"scene\", \"showlegend\": true, \"type\": \"scatter3d\", \"x\": [449], \"y\": [6.5454300000000005], \"z\": [\"Edakkode\"]}, {\"hoverlabel\": {\"namelength\": 0}, \"hovertemplate\": \"created_at=2020-03-03 06:01:21 UTC<br>total=%{x}<br>pH rating=%{y}<br>Places=%{z}\", \"legendgroup\": \"created_at=2020-03-03 06:01:21 UTC\", \"marker\": {\"color\": \"#ab63fa\", \"symbol\": \"circle\"}, \"mode\": \"markers\", \"name\": \"created_at=2020-03-03 06:01:21 UTC\", \"scene\": \"scene\", \"showlegend\": true, \"type\": \"scatter3d\", \"x\": [874], \"y\": [7.9002], \"z\": [\"Edakkode\"]}, {\"hoverlabel\": {\"namelength\": 0}, \"hovertemplate\": \"created_at=2020-03-03 06:01:37 UTC<br>total=%{x}<br>pH rating=%{y}<br>Places=%{z}\", \"legendgroup\": \"created_at=2020-03-03 06:01:37 UTC\", \"marker\": {\"color\": \"#FFA15A\", \"symbol\": \"circle\"}, \"mode\": \"markers\", \"name\": \"created_at=2020-03-03 06:01:37 UTC\", \"scene\": \"scene\", \"showlegend\": true, \"type\": \"scatter3d\", \"x\": [990], \"y\": [6.898], \"z\": [\"Piripincode\"]}, {\"hoverlabel\": {\"namelength\": 0}, \"hovertemplate\": \"created_at=2020-03-03 06:01:54 UTC<br>total=%{x}<br>pH rating=%{y}<br>Places=%{z}\", \"legendgroup\": \"created_at=2020-03-03 06:01:54 UTC\", \"marker\": {\"color\": \"#19d3f3\", \"symbol\": \"circle\"}, \"mode\": \"markers\", \"name\": \"created_at=2020-03-03 06:01:54 UTC\", \"scene\": \"scene\", \"showlegend\": true, \"type\": \"scatter3d\", \"x\": [234], \"y\": [3.4325], \"z\": [\"Kottukal\"]}, {\"hoverlabel\": {\"namelength\": 0}, \"hovertemplate\": \"created_at=2020-03-03 06:02:10 UTC<br>total=%{x}<br>pH rating=%{y}<br>Places=%{z}\", \"legendgroup\": \"created_at=2020-03-03 06:02:10 UTC\", \"marker\": {\"color\": \"#FF6692\", \"symbol\": \"circle\"}, \"mode\": \"markers\", \"name\": \"created_at=2020-03-03 06:02:10 UTC\", \"scene\": \"scene\", \"showlegend\": true, \"type\": \"scatter3d\", \"x\": [678], \"y\": [5.0005], \"z\": [\"Edakkode\"]}, {\"hoverlabel\": {\"namelength\": 0}, \"hovertemplate\": \"created_at=2020-03-03 06:02:26 UTC<br>total=%{x}<br>pH rating=%{y}<br>Places=%{z}\", \"legendgroup\": \"created_at=2020-03-03 06:02:26 UTC\", \"marker\": {\"color\": \"#B6E880\", \"symbol\": \"circle\"}, \"mode\": \"markers\", \"name\": \"created_at=2020-03-03 06:02:26 UTC\", \"scene\": \"scene\", \"showlegend\": true, \"type\": \"scatter3d\", \"x\": [876], \"y\": [4.4999], \"z\": [\"Edakkode\"]}, {\"hoverlabel\": {\"namelength\": 0}, \"hovertemplate\": \"created_at=2020-03-03 06:02:42 UTC<br>total=%{x}<br>pH rating=%{y}<br>Places=%{z}\", \"legendgroup\": \"created_at=2020-03-03 06:02:42 UTC\", \"marker\": {\"color\": \"#FF97FF\", \"symbol\": \"circle\"}, \"mode\": \"markers\", \"name\": \"created_at=2020-03-03 06:02:42 UTC\", \"scene\": \"scene\", \"showlegend\": true, \"type\": \"scatter3d\", \"x\": [543], \"y\": [9.9123], \"z\": [\"Kottukal\"]}, {\"hoverlabel\": {\"namelength\": 0}, \"hovertemplate\": \"created_at=2020-03-03 06:02:59 UTC<br>total=%{x}<br>pH rating=%{y}<br>Places=%{z}\", \"legendgroup\": \"created_at=2020-03-03 06:02:59 UTC\", \"marker\": {\"color\": \"#FECB52\", \"symbol\": \"circle\"}, \"mode\": \"markers\", \"name\": \"created_at=2020-03-03 06:02:59 UTC\", \"scene\": \"scene\", \"showlegend\": true, \"type\": \"scatter3d\", \"x\": [756], \"y\": [8.9786], \"z\": [\"Piripincode\"]}, {\"hoverlabel\": {\"namelength\": 0}, \"hovertemplate\": \"created_at=2020-03-03 06:03:15 UTC<br>total=%{x}<br>pH rating=%{y}<br>Places=%{z}\", \"legendgroup\": \"created_at=2020-03-03 06:03:15 UTC\", \"marker\": {\"color\": \"#636efa\", \"symbol\": \"circle\"}, \"mode\": \"markers\", \"name\": \"created_at=2020-03-03 06:03:15 UTC\", \"scene\": \"scene\", \"showlegend\": true, \"type\": \"scatter3d\", \"x\": [654], \"y\": [3.13246], \"z\": [\"Edakkode\"]}, {\"hoverlabel\": {\"namelength\": 0}, \"hovertemplate\": \"created_at=2020-03-03 06:03:31 UTC<br>total=%{x}<br>pH rating=%{y}<br>Places=%{z}\", \"legendgroup\": \"created_at=2020-03-03 06:03:31 UTC\", \"marker\": {\"color\": \"#EF553B\", \"symbol\": \"circle\"}, \"mode\": \"markers\", \"name\": \"created_at=2020-03-03 06:03:31 UTC\", \"scene\": \"scene\", \"showlegend\": true, \"type\": \"scatter3d\", \"x\": [234], \"y\": [3.2453], \"z\": [\"Piripincode\"]}, {\"hoverlabel\": {\"namelength\": 0}, \"hovertemplate\": \"created_at=2020-03-03 06:03:48 UTC<br>total=%{x}<br>pH rating=%{y}<br>Places=%{z}\", \"legendgroup\": \"created_at=2020-03-03 06:03:48 UTC\", \"marker\": {\"color\": \"#00cc96\", \"symbol\": \"circle\"}, \"mode\": \"markers\", \"name\": \"created_at=2020-03-03 06:03:48 UTC\", \"scene\": \"scene\", \"showlegend\": true, \"type\": \"scatter3d\", \"x\": [212], \"y\": [4.4446], \"z\": [\"Edakkode\"]}, {\"hoverlabel\": {\"namelength\": 0}, \"hovertemplate\": \"created_at=2020-03-03 06:04:04 UTC<br>total=%{x}<br>pH rating=%{y}<br>Places=%{z}\", \"legendgroup\": \"created_at=2020-03-03 06:04:04 UTC\", \"marker\": {\"color\": \"#ab63fa\", \"symbol\": \"circle\"}, \"mode\": \"markers\", \"name\": \"created_at=2020-03-03 06:04:04 UTC\", \"scene\": \"scene\", \"showlegend\": true, \"type\": \"scatter3d\", \"x\": [460], \"y\": [4.4123], \"z\": [\"Kottukal\"]}, {\"hoverlabel\": {\"namelength\": 0}, \"hovertemplate\": \"created_at=2020-03-03 06:04:20 UTC<br>total=%{x}<br>pH rating=%{y}<br>Places=%{z}\", \"legendgroup\": \"created_at=2020-03-03 06:04:20 UTC\", \"marker\": {\"color\": \"#FFA15A\", \"symbol\": \"circle\"}, \"mode\": \"markers\", \"name\": \"created_at=2020-03-03 06:04:20 UTC\", \"scene\": \"scene\", \"showlegend\": true, \"type\": \"scatter3d\", \"x\": [461], \"y\": [7.987], \"z\": [\"Edakkode\"]}, {\"hoverlabel\": {\"namelength\": 0}, \"hovertemplate\": \"created_at=2020-03-03 06:04:37 UTC<br>total=%{x}<br>pH rating=%{y}<br>Places=%{z}\", \"legendgroup\": \"created_at=2020-03-03 06:04:37 UTC\", \"marker\": {\"color\": \"#19d3f3\", \"symbol\": \"circle\"}, \"mode\": \"markers\", \"name\": \"created_at=2020-03-03 06:04:37 UTC\", \"scene\": \"scene\", \"showlegend\": true, \"type\": \"scatter3d\", \"x\": [462], \"y\": [7.8], \"z\": [\"Piripincode\"]}, {\"hoverlabel\": {\"namelength\": 0}, \"hovertemplate\": \"created_at=2020-03-03 06:04:53 UTC<br>total=%{x}<br>pH rating=%{y}<br>Places=%{z}\", \"legendgroup\": \"created_at=2020-03-03 06:04:53 UTC\", \"marker\": {\"color\": \"#FF6692\", \"symbol\": \"circle\"}, \"mode\": \"markers\", \"name\": \"created_at=2020-03-03 06:04:53 UTC\", \"scene\": \"scene\", \"showlegend\": true, \"type\": \"scatter3d\", \"x\": [577], \"y\": [9.675], \"z\": [\"Kottukal\"]}, {\"hoverlabel\": {\"namelength\": 0}, \"hovertemplate\": \"created_at=2020-03-03 06:05:09 UTC<br>total=%{x}<br>pH rating=%{y}<br>Places=%{z}\", \"legendgroup\": \"created_at=2020-03-03 06:05:09 UTC\", \"marker\": {\"color\": \"#B6E880\", \"symbol\": \"circle\"}, \"mode\": \"markers\", \"name\": \"created_at=2020-03-03 06:05:09 UTC\", \"scene\": \"scene\", \"showlegend\": true, \"type\": \"scatter3d\", \"x\": [500], \"y\": [9.654], \"z\": [\"Piripincode\"]}, {\"hoverlabel\": {\"namelength\": 0}, \"hovertemplate\": \"created_at=2020-03-03 06:05:25 UTC<br>total=%{x}<br>pH rating=%{y}<br>Places=%{z}\", \"legendgroup\": \"created_at=2020-03-03 06:05:25 UTC\", \"marker\": {\"color\": \"#FF97FF\", \"symbol\": \"circle\"}, \"mode\": \"markers\", \"name\": \"created_at=2020-03-03 06:05:25 UTC\", \"scene\": \"scene\", \"showlegend\": true, \"type\": \"scatter3d\", \"x\": [432], \"y\": [7.8651], \"z\": [\"Edakkode\"]}, {\"hoverlabel\": {\"namelength\": 0}, \"hovertemplate\": \"created_at=2020-03-03 06:05:42 UTC<br>total=%{x}<br>pH rating=%{y}<br>Places=%{z}\", \"legendgroup\": \"created_at=2020-03-03 06:05:42 UTC\", \"marker\": {\"color\": \"#FECB52\", \"symbol\": \"circle\"}, \"mode\": \"markers\", \"name\": \"created_at=2020-03-03 06:05:42 UTC\", \"scene\": \"scene\", \"showlegend\": true, \"type\": \"scatter3d\", \"x\": [121], \"y\": [3.100123], \"z\": [\"Piripincode\"]}, {\"hoverlabel\": {\"namelength\": 0}, \"hovertemplate\": \"created_at=2020-03-03 06:05:58 UTC<br>total=%{x}<br>pH rating=%{y}<br>Places=%{z}\", \"legendgroup\": \"created_at=2020-03-03 06:05:58 UTC\", \"marker\": {\"color\": \"#636efa\", \"symbol\": \"circle\"}, \"mode\": \"markers\", \"name\": \"created_at=2020-03-03 06:05:58 UTC\", \"scene\": \"scene\", \"showlegend\": true, \"type\": \"scatter3d\", \"x\": [121], \"y\": [6.9765], \"z\": [\"Edakkode\"]}, {\"hoverlabel\": {\"namelength\": 0}, \"hovertemplate\": \"created_at=2020-03-03 06:06:14 UTC<br>total=%{x}<br>pH rating=%{y}<br>Places=%{z}\", \"legendgroup\": \"created_at=2020-03-03 06:06:14 UTC\", \"marker\": {\"color\": \"#EF553B\", \"symbol\": \"circle\"}, \"mode\": \"markers\", \"name\": \"created_at=2020-03-03 06:06:14 UTC\", \"scene\": \"scene\", \"showlegend\": true, \"type\": \"scatter3d\", \"x\": [323], \"y\": [4.34279], \"z\": [\"Edakkode\"]}, {\"hoverlabel\": {\"namelength\": 0}, \"hovertemplate\": \"created_at=2020-03-03 06:06:30 UTC<br>total=%{x}<br>pH rating=%{y}<br>Places=%{z}\", \"legendgroup\": \"created_at=2020-03-03 06:06:30 UTC\", \"marker\": {\"color\": \"#00cc96\", \"symbol\": \"circle\"}, \"mode\": \"markers\", \"name\": \"created_at=2020-03-03 06:06:30 UTC\", \"scene\": \"scene\", \"showlegend\": true, \"type\": \"scatter3d\", \"x\": [432], \"y\": [4.8976], \"z\": [\"Piripincode\"]}, {\"hoverlabel\": {\"namelength\": 0}, \"hovertemplate\": \"created_at=2020-03-03 06:06:47 UTC<br>total=%{x}<br>pH rating=%{y}<br>Places=%{z}\", \"legendgroup\": \"created_at=2020-03-03 06:06:47 UTC\", \"marker\": {\"color\": \"#ab63fa\", \"symbol\": \"circle\"}, \"mode\": \"markers\", \"name\": \"created_at=2020-03-03 06:06:47 UTC\", \"scene\": \"scene\", \"showlegend\": true, \"type\": \"scatter3d\", \"x\": [532], \"y\": [4.001], \"z\": [\"Kottukal\"]}, {\"hoverlabel\": {\"namelength\": 0}, \"hovertemplate\": \"created_at=2020-03-03 06:07:03 UTC<br>total=%{x}<br>pH rating=%{y}<br>Places=%{z}\", \"legendgroup\": \"created_at=2020-03-03 06:07:03 UTC\", \"marker\": {\"color\": \"#FFA15A\", \"symbol\": \"circle\"}, \"mode\": \"markers\", \"name\": \"created_at=2020-03-03 06:07:03 UTC\", \"scene\": \"scene\", \"showlegend\": true, \"type\": \"scatter3d\", \"x\": [232], \"y\": [5.6785], \"z\": [\"Kottukal\"]}, {\"hoverlabel\": {\"namelength\": 0}, \"hovertemplate\": \"created_at=2020-03-03 06:07:19 UTC<br>total=%{x}<br>pH rating=%{y}<br>Places=%{z}\", \"legendgroup\": \"created_at=2020-03-03 06:07:19 UTC\", \"marker\": {\"color\": \"#19d3f3\", \"symbol\": \"circle\"}, \"mode\": \"markers\", \"name\": \"created_at=2020-03-03 06:07:19 UTC\", \"scene\": \"scene\", \"showlegend\": true, \"type\": \"scatter3d\", \"x\": [222], \"y\": [5.0009], \"z\": [\"Kottukal\"]}, {\"hoverlabel\": {\"namelength\": 0}, \"hovertemplate\": \"created_at=2020-03-03 06:07:35 UTC<br>total=%{x}<br>pH rating=%{y}<br>Places=%{z}\", \"legendgroup\": \"created_at=2020-03-03 06:07:35 UTC\", \"marker\": {\"color\": \"#FF6692\", \"symbol\": \"circle\"}, \"mode\": \"markers\", \"name\": \"created_at=2020-03-03 06:07:35 UTC\", \"scene\": \"scene\", \"showlegend\": true, \"type\": \"scatter3d\", \"x\": [357], \"y\": [7.0], \"z\": [\"Edakkode\"]}, {\"hoverlabel\": {\"namelength\": 0}, \"hovertemplate\": \"created_at=2020-03-03 06:07:51 UTC<br>total=%{x}<br>pH rating=%{y}<br>Places=%{z}\", \"legendgroup\": \"created_at=2020-03-03 06:07:51 UTC\", \"marker\": {\"color\": \"#B6E880\", \"symbol\": \"circle\"}, \"mode\": \"markers\", \"name\": \"created_at=2020-03-03 06:07:51 UTC\", \"scene\": \"scene\", \"showlegend\": true, \"type\": \"scatter3d\", \"x\": [543], \"y\": [7.001], \"z\": [\"Piripincode\"]}, {\"hoverlabel\": {\"namelength\": 0}, \"hovertemplate\": \"created_at=2020-03-03 06:08:08 UTC<br>total=%{x}<br>pH rating=%{y}<br>Places=%{z}\", \"legendgroup\": \"created_at=2020-03-03 06:08:08 UTC\", \"marker\": {\"color\": \"#FF97FF\", \"symbol\": \"circle\"}, \"mode\": \"markers\", \"name\": \"created_at=2020-03-03 06:08:08 UTC\", \"scene\": \"scene\", \"showlegend\": true, \"type\": \"scatter3d\", \"x\": [754], \"y\": [3.57665], \"z\": [\"Edakkode\"]}, {\"hoverlabel\": {\"namelength\": 0}, \"hovertemplate\": \"created_at=2020-03-03 06:08:24 UTC<br>total=%{x}<br>pH rating=%{y}<br>Places=%{z}\", \"legendgroup\": \"created_at=2020-03-03 06:08:24 UTC\", \"marker\": {\"color\": \"#FECB52\", \"symbol\": \"circle\"}, \"mode\": \"markers\", \"name\": \"created_at=2020-03-03 06:08:24 UTC\", \"scene\": \"scene\", \"showlegend\": true, \"type\": \"scatter3d\", \"x\": [476], \"y\": [4.4567], \"z\": [\"Piripincode\"]}, {\"hoverlabel\": {\"namelength\": 0}, \"hovertemplate\": \"created_at=2020-03-03 06:08:40 UTC<br>total=%{x}<br>pH rating=%{y}<br>Places=%{z}\", \"legendgroup\": \"created_at=2020-03-03 06:08:40 UTC\", \"marker\": {\"color\": \"#636efa\", \"symbol\": \"circle\"}, \"mode\": \"markers\", \"name\": \"created_at=2020-03-03 06:08:40 UTC\", \"scene\": \"scene\", \"showlegend\": true, \"type\": \"scatter3d\", \"x\": [477], \"y\": [8.9876], \"z\": [\"Edakkode\"]}, {\"hoverlabel\": {\"namelength\": 0}, \"hovertemplate\": \"created_at=2020-03-03 06:09:12 UTC<br>total=%{x}<br>pH rating=%{y}<br>Places=%{z}\", \"legendgroup\": \"created_at=2020-03-03 06:09:12 UTC\", \"marker\": {\"color\": \"#EF553B\", \"symbol\": \"circle\"}, \"mode\": \"markers\", \"name\": \"created_at=2020-03-03 06:09:12 UTC\", \"scene\": \"scene\", \"showlegend\": true, \"type\": \"scatter3d\", \"x\": [200], \"y\": [8.0097], \"z\": [\"Edakkode\"]}, {\"hoverlabel\": {\"namelength\": 0}, \"hovertemplate\": \"created_at=2020-03-03 06:09:28 UTC<br>total=%{x}<br>pH rating=%{y}<br>Places=%{z}\", \"legendgroup\": \"created_at=2020-03-03 06:09:28 UTC\", \"marker\": {\"color\": \"#00cc96\", \"symbol\": \"circle\"}, \"mode\": \"markers\", \"name\": \"created_at=2020-03-03 06:09:28 UTC\", \"scene\": \"scene\", \"showlegend\": true, \"type\": \"scatter3d\", \"x\": [202], \"y\": [7.8965], \"z\": [\"Kottukal\"]}, {\"hoverlabel\": {\"namelength\": 0}, \"hovertemplate\": \"created_at=2020-03-03 06:09:45 UTC<br>total=%{x}<br>pH rating=%{y}<br>Places=%{z}\", \"legendgroup\": \"created_at=2020-03-03 06:09:45 UTC\", \"marker\": {\"color\": \"#ab63fa\", \"symbol\": \"circle\"}, \"mode\": \"markers\", \"name\": \"created_at=2020-03-03 06:09:45 UTC\", \"scene\": \"scene\", \"showlegend\": true, \"type\": \"scatter3d\", \"x\": [480], \"y\": [7.0089999999999995], \"z\": [\"Piripincode\"]}, {\"hoverlabel\": {\"namelength\": 0}, \"hovertemplate\": \"created_at=2020-03-03 06:11:44 UTC<br>total=%{x}<br>pH rating=%{y}<br>Places=%{z}\", \"legendgroup\": \"created_at=2020-03-03 06:11:44 UTC\", \"marker\": {\"color\": \"#FFA15A\", \"symbol\": \"circle\"}, \"mode\": \"markers\", \"name\": \"created_at=2020-03-03 06:11:44 UTC\", \"scene\": \"scene\", \"showlegend\": true, \"type\": \"scatter3d\", \"x\": [879], \"y\": [4.5679], \"z\": [\"Edakkode\"]}, {\"hoverlabel\": {\"namelength\": 0}, \"hovertemplate\": \"created_at=2020-03-03 06:12:00 UTC<br>total=%{x}<br>pH rating=%{y}<br>Places=%{z}\", \"legendgroup\": \"created_at=2020-03-03 06:12:00 UTC\", \"marker\": {\"color\": \"#19d3f3\", \"symbol\": \"circle\"}, \"mode\": \"markers\", \"name\": \"created_at=2020-03-03 06:12:00 UTC\", \"scene\": \"scene\", \"showlegend\": true, \"type\": \"scatter3d\", \"x\": [482], \"y\": [4.5678], \"z\": [\"Edakkode\"]}, {\"hoverlabel\": {\"namelength\": 0}, \"hovertemplate\": \"created_at=2020-03-03 06:12:16 UTC<br>total=%{x}<br>pH rating=%{y}<br>Places=%{z}\", \"legendgroup\": \"created_at=2020-03-03 06:12:16 UTC\", \"marker\": {\"color\": \"#FF6692\", \"symbol\": \"circle\"}, \"mode\": \"markers\", \"name\": \"created_at=2020-03-03 06:12:16 UTC\", \"scene\": \"scene\", \"showlegend\": true, \"type\": \"scatter3d\", \"x\": [500], \"y\": [9.567], \"z\": [\"Kottukal\"]}, {\"hoverlabel\": {\"namelength\": 0}, \"hovertemplate\": \"created_at=2020-03-03 06:12:32 UTC<br>total=%{x}<br>pH rating=%{y}<br>Places=%{z}\", \"legendgroup\": \"created_at=2020-03-03 06:12:32 UTC\", \"marker\": {\"color\": \"#B6E880\", \"symbol\": \"circle\"}, \"mode\": \"markers\", \"name\": \"created_at=2020-03-03 06:12:32 UTC\", \"scene\": \"scene\", \"showlegend\": true, \"type\": \"scatter3d\", \"x\": [506], \"y\": [9.7665], \"z\": [\"Kottukal\"]}, {\"hoverlabel\": {\"namelength\": 0}, \"hovertemplate\": \"created_at=2020-03-03 06:12:49 UTC<br>total=%{x}<br>pH rating=%{y}<br>Places=%{z}\", \"legendgroup\": \"created_at=2020-03-03 06:12:49 UTC\", \"marker\": {\"color\": \"#FF97FF\", \"symbol\": \"circle\"}, \"mode\": \"markers\", \"name\": \"created_at=2020-03-03 06:12:49 UTC\", \"scene\": \"scene\", \"showlegend\": true, \"type\": \"scatter3d\", \"x\": [438], \"y\": [8.9907], \"z\": [\"Piripincode\"]}, {\"hoverlabel\": {\"namelength\": 0}, \"hovertemplate\": \"created_at=2020-03-03 06:13:05 UTC<br>total=%{x}<br>pH rating=%{y}<br>Places=%{z}\", \"legendgroup\": \"created_at=2020-03-03 06:13:05 UTC\", \"marker\": {\"color\": \"#FECB52\", \"symbol\": \"circle\"}, \"mode\": \"markers\", \"name\": \"created_at=2020-03-03 06:13:05 UTC\", \"scene\": \"scene\", \"showlegend\": true, \"type\": \"scatter3d\", \"x\": [486], \"y\": [5.0076], \"z\": [\"Edakkode\"]}, {\"hoverlabel\": {\"namelength\": 0}, \"hovertemplate\": \"created_at=2020-03-03 06:13:21 UTC<br>total=%{x}<br>pH rating=%{y}<br>Places=%{z}\", \"legendgroup\": \"created_at=2020-03-03 06:13:21 UTC\", \"marker\": {\"color\": \"#636efa\", \"symbol\": \"circle\"}, \"mode\": \"markers\", \"name\": \"created_at=2020-03-03 06:13:21 UTC\", \"scene\": \"scene\", \"showlegend\": true, \"type\": \"scatter3d\", \"x\": [487], \"y\": [5.7865], \"z\": [\"Kottukal\"]}, {\"hoverlabel\": {\"namelength\": 0}, \"hovertemplate\": \"created_at=2020-03-03 06:13:37 UTC<br>total=%{x}<br>pH rating=%{y}<br>Places=%{z}\", \"legendgroup\": \"created_at=2020-03-03 06:13:37 UTC\", \"marker\": {\"color\": \"#EF553B\", \"symbol\": \"circle\"}, \"mode\": \"markers\", \"name\": \"created_at=2020-03-03 06:13:37 UTC\", \"scene\": \"scene\", \"showlegend\": true, \"type\": \"scatter3d\", \"x\": [987], \"y\": [8.9766], \"z\": [\"Edakkode\"]}, {\"hoverlabel\": {\"namelength\": 0}, \"hovertemplate\": \"created_at=2020-03-03 06:13:53 UTC<br>total=%{x}<br>pH rating=%{y}<br>Places=%{z}\", \"legendgroup\": \"created_at=2020-03-03 06:13:53 UTC\", \"marker\": {\"color\": \"#00cc96\", \"symbol\": \"circle\"}, \"mode\": \"markers\", \"name\": \"created_at=2020-03-03 06:13:53 UTC\", \"scene\": \"scene\", \"showlegend\": true, \"type\": \"scatter3d\", \"x\": [999], \"y\": [3.12321], \"z\": [\"Piripincode\"]}, {\"hoverlabel\": {\"namelength\": 0}, \"hovertemplate\": \"created_at=2020-03-03 06:14:25 UTC<br>total=%{x}<br>pH rating=%{y}<br>Places=%{z}\", \"legendgroup\": \"created_at=2020-03-03 06:14:25 UTC\", \"marker\": {\"color\": \"#ab63fa\", \"symbol\": \"circle\"}, \"mode\": \"markers\", \"name\": \"created_at=2020-03-03 06:14:25 UTC\", \"scene\": \"scene\", \"showlegend\": true, \"type\": \"scatter3d\", \"x\": [490], \"y\": [6.789], \"z\": [\"Edakkode\"]}, {\"hoverlabel\": {\"namelength\": 0}, \"hovertemplate\": \"created_at=2020-03-03 06:14:41 UTC<br>total=%{x}<br>pH rating=%{y}<br>Places=%{z}\", \"legendgroup\": \"created_at=2020-03-03 06:14:41 UTC\", \"marker\": {\"color\": \"#FFA15A\", \"symbol\": \"circle\"}, \"mode\": \"markers\", \"name\": \"created_at=2020-03-03 06:14:41 UTC\", \"scene\": \"scene\", \"showlegend\": true, \"type\": \"scatter3d\", \"x\": [236], \"y\": [6.9854], \"z\": [\"Kottukal\"]}, {\"hoverlabel\": {\"namelength\": 0}, \"hovertemplate\": \"created_at=2020-03-03 06:14:57 UTC<br>total=%{x}<br>pH rating=%{y}<br>Places=%{z}\", \"legendgroup\": \"created_at=2020-03-03 06:14:57 UTC\", \"marker\": {\"color\": \"#19d3f3\", \"symbol\": \"circle\"}, \"mode\": \"markers\", \"name\": \"created_at=2020-03-03 06:14:57 UTC\", \"scene\": \"scene\", \"showlegend\": true, \"type\": \"scatter3d\", \"x\": [287], \"y\": [8.8765], \"z\": [\"Edakkode\"]}, {\"hoverlabel\": {\"namelength\": 0}, \"hovertemplate\": \"created_at=2020-03-03 06:15:14 UTC<br>total=%{x}<br>pH rating=%{y}<br>Places=%{z}\", \"legendgroup\": \"created_at=2020-03-03 06:15:14 UTC\", \"marker\": {\"color\": \"#FF6692\", \"symbol\": \"circle\"}, \"mode\": \"markers\", \"name\": \"created_at=2020-03-03 06:15:14 UTC\", \"scene\": \"scene\", \"showlegend\": true, \"type\": \"scatter3d\", \"x\": [300], \"y\": [8.876539999999999], \"z\": [\"Piripincode\"]}, {\"hoverlabel\": {\"namelength\": 0}, \"hovertemplate\": \"created_at=2020-03-03 06:15:30 UTC<br>total=%{x}<br>pH rating=%{y}<br>Places=%{z}\", \"legendgroup\": \"created_at=2020-03-03 06:15:30 UTC\", \"marker\": {\"color\": \"#B6E880\", \"symbol\": \"circle\"}, \"mode\": \"markers\", \"name\": \"created_at=2020-03-03 06:15:30 UTC\", \"scene\": \"scene\", \"showlegend\": true, \"type\": \"scatter3d\", \"x\": [300], \"y\": [9.9876], \"z\": [\"Kottukal\"]}, {\"hoverlabel\": {\"namelength\": 0}, \"hovertemplate\": \"created_at=2020-03-03 06:15:49 UTC<br>total=%{x}<br>pH rating=%{y}<br>Places=%{z}\", \"legendgroup\": \"created_at=2020-03-03 06:15:49 UTC\", \"marker\": {\"color\": \"#FF97FF\", \"symbol\": \"circle\"}, \"mode\": \"markers\", \"name\": \"created_at=2020-03-03 06:15:49 UTC\", \"scene\": \"scene\", \"showlegend\": true, \"type\": \"scatter3d\", \"x\": [765], \"y\": [5.45643], \"z\": [\"Edakkode\"]}, {\"hoverlabel\": {\"namelength\": 0}, \"hovertemplate\": \"created_at=2020-03-03 06:16:05 UTC<br>total=%{x}<br>pH rating=%{y}<br>Places=%{z}\", \"legendgroup\": \"created_at=2020-03-03 06:16:05 UTC\", \"marker\": {\"color\": \"#FECB52\", \"symbol\": \"circle\"}, \"mode\": \"markers\", \"name\": \"created_at=2020-03-03 06:16:05 UTC\", \"scene\": \"scene\", \"showlegend\": true, \"type\": \"scatter3d\", \"x\": [300], \"y\": [5.5677], \"z\": [\"Piripincode\"]}, {\"hoverlabel\": {\"namelength\": 0}, \"hovertemplate\": \"created_at=2020-03-03 06:16:22 UTC<br>total=%{x}<br>pH rating=%{y}<br>Places=%{z}\", \"legendgroup\": \"created_at=2020-03-03 06:16:22 UTC\", \"marker\": {\"color\": \"#636efa\", \"symbol\": \"circle\"}, \"mode\": \"markers\", \"name\": \"created_at=2020-03-03 06:16:22 UTC\", \"scene\": \"scene\", \"showlegend\": true, \"type\": \"scatter3d\", \"x\": [754], \"y\": [5.56754], \"z\": [\"Piripincode\"]}, {\"hoverlabel\": {\"namelength\": 0}, \"hovertemplate\": \"created_at=2020-03-03 06:16:38 UTC<br>total=%{x}<br>pH rating=%{y}<br>Places=%{z}\", \"legendgroup\": \"created_at=2020-03-03 06:16:38 UTC\", \"marker\": {\"color\": \"#EF553B\", \"symbol\": \"circle\"}, \"mode\": \"markers\", \"name\": \"created_at=2020-03-03 06:16:38 UTC\", \"scene\": \"scene\", \"showlegend\": true, \"type\": \"scatter3d\", \"x\": [765], \"y\": [5.5678], \"z\": [\"Edakkode\"]}, {\"hoverlabel\": {\"namelength\": 0}, \"hovertemplate\": \"created_at=2020-03-03 06:16:55 UTC<br>total=%{x}<br>pH rating=%{y}<br>Places=%{z}\", \"legendgroup\": \"created_at=2020-03-03 06:16:55 UTC\", \"marker\": {\"color\": \"#00cc96\", \"symbol\": \"circle\"}, \"mode\": \"markers\", \"name\": \"created_at=2020-03-03 06:16:55 UTC\", \"scene\": \"scene\", \"showlegend\": true, \"type\": \"scatter3d\", \"x\": [754], \"y\": [9.0087], \"z\": [\"Kottukal\"]}, {\"hoverlabel\": {\"namelength\": 0}, \"hovertemplate\": \"created_at=2020-03-03 06:17:11 UTC<br>total=%{x}<br>pH rating=%{y}<br>Places=%{z}\", \"legendgroup\": \"created_at=2020-03-03 06:17:11 UTC\", \"marker\": {\"color\": \"#ab63fa\", \"symbol\": \"circle\"}, \"mode\": \"markers\", \"name\": \"created_at=2020-03-03 06:17:11 UTC\", \"scene\": \"scene\", \"showlegend\": true, \"type\": \"scatter3d\", \"x\": [765], \"y\": [9.0087], \"z\": [\"Edakkode\"]}, {\"hoverlabel\": {\"namelength\": 0}, \"hovertemplate\": \"created_at=2020-03-03 06:17:27 UTC<br>total=%{x}<br>pH rating=%{y}<br>Places=%{z}\", \"legendgroup\": \"created_at=2020-03-03 06:17:27 UTC\", \"marker\": {\"color\": \"#FFA15A\", \"symbol\": \"circle\"}, \"mode\": \"markers\", \"name\": \"created_at=2020-03-03 06:17:27 UTC\", \"scene\": \"scene\", \"showlegend\": true, \"type\": \"scatter3d\", \"x\": [432], \"y\": [5.67865], \"z\": [\"Piripincode\"]}, {\"hoverlabel\": {\"namelength\": 0}, \"hovertemplate\": \"created_at=2020-03-03 06:17:44 UTC<br>total=%{x}<br>pH rating=%{y}<br>Places=%{z}\", \"legendgroup\": \"created_at=2020-03-03 06:17:44 UTC\", \"marker\": {\"color\": \"#19d3f3\", \"symbol\": \"circle\"}, \"mode\": \"markers\", \"name\": \"created_at=2020-03-03 06:17:44 UTC\", \"scene\": \"scene\", \"showlegend\": true, \"type\": \"scatter3d\", \"x\": [432], \"y\": [9.8765], \"z\": [\"Piripincode\"]}, {\"hoverlabel\": {\"namelength\": 0}, \"hovertemplate\": \"created_at=2020-03-03 06:18:25 UTC<br>total=%{x}<br>pH rating=%{y}<br>Places=%{z}\", \"legendgroup\": \"created_at=2020-03-03 06:18:25 UTC\", \"marker\": {\"color\": \"#FF6692\", \"symbol\": \"circle\"}, \"mode\": \"markers\", \"name\": \"created_at=2020-03-03 06:18:25 UTC\", \"scene\": \"scene\", \"showlegend\": true, \"type\": \"scatter3d\", \"x\": [121], \"y\": [3.2345599999999997], \"z\": [\"Kottukal\"]}, {\"hoverlabel\": {\"namelength\": 0}, \"hovertemplate\": \"created_at=2020-03-03 06:18:41 UTC<br>total=%{x}<br>pH rating=%{y}<br>Places=%{z}\", \"legendgroup\": \"created_at=2020-03-03 06:18:41 UTC\", \"marker\": {\"color\": \"#B6E880\", \"symbol\": \"circle\"}, \"mode\": \"markers\", \"name\": \"created_at=2020-03-03 06:18:41 UTC\", \"scene\": \"scene\", \"showlegend\": true, \"type\": \"scatter3d\", \"x\": [194], \"y\": [1.9887599999999999], \"z\": [\"Edakkode\"]}, {\"hoverlabel\": {\"namelength\": 0}, \"hovertemplate\": \"created_at=2020-03-03 06:18:57 UTC<br>total=%{x}<br>pH rating=%{y}<br>Places=%{z}\", \"legendgroup\": \"created_at=2020-03-03 06:18:57 UTC\", \"marker\": {\"color\": \"#FF97FF\", \"symbol\": \"circle\"}, \"mode\": \"markers\", \"name\": \"created_at=2020-03-03 06:18:57 UTC\", \"scene\": \"scene\", \"showlegend\": true, \"type\": \"scatter3d\", \"x\": [342], \"y\": [6.877999999999999], \"z\": [\"Kottukal\"]}, {\"hoverlabel\": {\"namelength\": 0}, \"hovertemplate\": \"created_at=2020-03-03 06:19:14 UTC<br>total=%{x}<br>pH rating=%{y}<br>Places=%{z}\", \"legendgroup\": \"created_at=2020-03-03 06:19:14 UTC\", \"marker\": {\"color\": \"#FECB52\", \"symbol\": \"circle\"}, \"mode\": \"markers\", \"name\": \"created_at=2020-03-03 06:19:14 UTC\", \"scene\": \"scene\", \"showlegend\": true, \"type\": \"scatter3d\", \"x\": [378], \"y\": [1.23451], \"z\": [\"Edakkode\"]}, {\"hoverlabel\": {\"namelength\": 0}, \"hovertemplate\": \"created_at=2020-03-03 06:19:30 UTC<br>total=%{x}<br>pH rating=%{y}<br>Places=%{z}\", \"legendgroup\": \"created_at=2020-03-03 06:19:30 UTC\", \"marker\": {\"color\": \"#636efa\", \"symbol\": \"circle\"}, \"mode\": \"markers\", \"name\": \"created_at=2020-03-03 06:19:30 UTC\", \"scene\": \"scene\", \"showlegend\": true, \"type\": \"scatter3d\", \"x\": [402], \"y\": [1.9008], \"z\": [\"Edakkode\"]}, {\"hoverlabel\": {\"namelength\": 0}, \"hovertemplate\": \"created_at=2020-03-03 06:19:46 UTC<br>total=%{x}<br>pH rating=%{y}<br>Places=%{z}\", \"legendgroup\": \"created_at=2020-03-03 06:19:46 UTC\", \"marker\": {\"color\": \"#EF553B\", \"symbol\": \"circle\"}, \"mode\": \"markers\", \"name\": \"created_at=2020-03-03 06:19:46 UTC\", \"scene\": \"scene\", \"showlegend\": true, \"type\": \"scatter3d\", \"x\": [402], \"y\": [3.5657], \"z\": [\"Edakkode\"]}, {\"hoverlabel\": {\"namelength\": 0}, \"hovertemplate\": \"created_at=2020-03-03 06:20:03 UTC<br>total=%{x}<br>pH rating=%{y}<br>Places=%{z}\", \"legendgroup\": \"created_at=2020-03-03 06:20:03 UTC\", \"marker\": {\"color\": \"#00cc96\", \"symbol\": \"circle\"}, \"mode\": \"markers\", \"name\": \"created_at=2020-03-03 06:20:03 UTC\", \"scene\": \"scene\", \"showlegend\": true, \"type\": \"scatter3d\", \"x\": [356], \"y\": [9.00987], \"z\": [\"Piripincode\"]}, {\"hoverlabel\": {\"namelength\": 0}, \"hovertemplate\": \"created_at=2020-03-03 06:20:19 UTC<br>total=%{x}<br>pH rating=%{y}<br>Places=%{z}\", \"legendgroup\": \"created_at=2020-03-03 06:20:19 UTC\", \"marker\": {\"color\": \"#ab63fa\", \"symbol\": \"circle\"}, \"mode\": \"markers\", \"name\": \"created_at=2020-03-03 06:20:19 UTC\", \"scene\": \"scene\", \"showlegend\": true, \"type\": \"scatter3d\", \"x\": [765], \"y\": [9.0], \"z\": [\"Edakkode\"]}, {\"hoverlabel\": {\"namelength\": 0}, \"hovertemplate\": \"created_at=2020-03-03 06:20:35 UTC<br>total=%{x}<br>pH rating=%{y}<br>Places=%{z}\", \"legendgroup\": \"created_at=2020-03-03 06:20:35 UTC\", \"marker\": {\"color\": \"#FFA15A\", \"symbol\": \"circle\"}, \"mode\": \"markers\", \"name\": \"created_at=2020-03-03 06:20:35 UTC\", \"scene\": \"scene\", \"showlegend\": true, \"type\": \"scatter3d\", \"x\": [989], \"y\": [9.0], \"z\": [\"Kottukal\"]}, {\"hoverlabel\": {\"namelength\": 0}, \"hovertemplate\": \"created_at=2020-03-03 06:20:52 UTC<br>total=%{x}<br>pH rating=%{y}<br>Places=%{z}\", \"legendgroup\": \"created_at=2020-03-03 06:20:52 UTC\", \"marker\": {\"color\": \"#19d3f3\", \"symbol\": \"circle\"}, \"mode\": \"markers\", \"name\": \"created_at=2020-03-03 06:20:52 UTC\", \"scene\": \"scene\", \"showlegend\": true, \"type\": \"scatter3d\", \"x\": [432], \"y\": [3.0], \"z\": [\"Kottukal\"]}, {\"hoverlabel\": {\"namelength\": 0}, \"hovertemplate\": \"created_at=2020-03-03 06:21:08 UTC<br>total=%{x}<br>pH rating=%{y}<br>Places=%{z}\", \"legendgroup\": \"created_at=2020-03-03 06:21:08 UTC\", \"marker\": {\"color\": \"#FF6692\", \"symbol\": \"circle\"}, \"mode\": \"markers\", \"name\": \"created_at=2020-03-03 06:21:08 UTC\", \"scene\": \"scene\", \"showlegend\": true, \"type\": \"scatter3d\", \"x\": [456], \"y\": [7.0], \"z\": [\"Piripincode\"]}, {\"hoverlabel\": {\"namelength\": 0}, \"hovertemplate\": \"created_at=2020-03-03 06:21:24 UTC<br>total=%{x}<br>pH rating=%{y}<br>Places=%{z}\", \"legendgroup\": \"created_at=2020-03-03 06:21:24 UTC\", \"marker\": {\"color\": \"#B6E880\", \"symbol\": \"circle\"}, \"mode\": \"markers\", \"name\": \"created_at=2020-03-03 06:21:24 UTC\", \"scene\": \"scene\", \"showlegend\": true, \"type\": \"scatter3d\", \"x\": [654], \"y\": [7.0], \"z\": [\"Edakkode\"]}, {\"hoverlabel\": {\"namelength\": 0}, \"hovertemplate\": \"created_at=2020-03-03 06:21:40 UTC<br>total=%{x}<br>pH rating=%{y}<br>Places=%{z}\", \"legendgroup\": \"created_at=2020-03-03 06:21:40 UTC\", \"marker\": {\"color\": \"#FF97FF\", \"symbol\": \"circle\"}, \"mode\": \"markers\", \"name\": \"created_at=2020-03-03 06:21:40 UTC\", \"scene\": \"scene\", \"showlegend\": true, \"type\": \"scatter3d\", \"x\": [659], \"y\": [6.987], \"z\": [\"Edakkode\"]}, {\"hoverlabel\": {\"namelength\": 0}, \"hovertemplate\": \"created_at=2020-03-03 06:21:56 UTC<br>total=%{x}<br>pH rating=%{y}<br>Places=%{z}\", \"legendgroup\": \"created_at=2020-03-03 06:21:56 UTC\", \"marker\": {\"color\": \"#FECB52\", \"symbol\": \"circle\"}, \"mode\": \"markers\", \"name\": \"created_at=2020-03-03 06:21:56 UTC\", \"scene\": \"scene\", \"showlegend\": true, \"type\": \"scatter3d\", \"x\": [760], \"y\": [6.789], \"z\": [\"Kottukal\"]}, {\"hoverlabel\": {\"namelength\": 0}, \"hovertemplate\": \"created_at=2020-03-03 06:22:13 UTC<br>total=%{x}<br>pH rating=%{y}<br>Places=%{z}\", \"legendgroup\": \"created_at=2020-03-03 06:22:13 UTC\", \"marker\": {\"color\": \"#636efa\", \"symbol\": \"circle\"}, \"mode\": \"markers\", \"name\": \"created_at=2020-03-03 06:22:13 UTC\", \"scene\": \"scene\", \"showlegend\": true, \"type\": \"scatter3d\", \"x\": [710], \"y\": [4.4567], \"z\": [\"Edakkode\"]}, {\"hoverlabel\": {\"namelength\": 0}, \"hovertemplate\": \"created_at=2020-03-03 06:22:29 UTC<br>total=%{x}<br>pH rating=%{y}<br>Places=%{z}\", \"legendgroup\": \"created_at=2020-03-03 06:22:29 UTC\", \"marker\": {\"color\": \"#EF553B\", \"symbol\": \"circle\"}, \"mode\": \"markers\", \"name\": \"created_at=2020-03-03 06:22:29 UTC\", \"scene\": \"scene\", \"showlegend\": true, \"type\": \"scatter3d\", \"x\": [754], \"y\": [4.45673], \"z\": [\"Kottukal\"]}, {\"hoverlabel\": {\"namelength\": 0}, \"hovertemplate\": \"created_at=2020-03-03 06:22:47 UTC<br>total=%{x}<br>pH rating=%{y}<br>Places=%{z}\", \"legendgroup\": \"created_at=2020-03-03 06:22:47 UTC\", \"marker\": {\"color\": \"#00cc96\", \"symbol\": \"circle\"}, \"mode\": \"markers\", \"name\": \"created_at=2020-03-03 06:22:47 UTC\", \"scene\": \"scene\", \"showlegend\": true, \"type\": \"scatter3d\", \"x\": [274], \"y\": [2.34567], \"z\": [\"Piripincode\"]}, {\"hoverlabel\": {\"namelength\": 0}, \"hovertemplate\": \"created_at=2020-03-03 06:23:03 UTC<br>total=%{x}<br>pH rating=%{y}<br>Places=%{z}\", \"legendgroup\": \"created_at=2020-03-03 06:23:03 UTC\", \"marker\": {\"color\": \"#ab63fa\", \"symbol\": \"circle\"}, \"mode\": \"markers\", \"name\": \"created_at=2020-03-03 06:23:03 UTC\", \"scene\": \"scene\", \"showlegend\": true, \"type\": \"scatter3d\", \"x\": [283], \"y\": [2.345], \"z\": [\"Edakkode\"]}, {\"hoverlabel\": {\"namelength\": 0}, \"hovertemplate\": \"created_at=2020-03-03 06:23:19 UTC<br>total=%{x}<br>pH rating=%{y}<br>Places=%{z}\", \"legendgroup\": \"created_at=2020-03-03 06:23:19 UTC\", \"marker\": {\"color\": \"#FFA15A\", \"symbol\": \"circle\"}, \"mode\": \"markers\", \"name\": \"created_at=2020-03-03 06:23:19 UTC\", \"scene\": \"scene\", \"showlegend\": true, \"type\": \"scatter3d\", \"x\": [285], \"y\": [2.9087], \"z\": [\"Edakkode\"]}, {\"hoverlabel\": {\"namelength\": 0}, \"hovertemplate\": \"created_at=2020-03-03 06:23:35 UTC<br>total=%{x}<br>pH rating=%{y}<br>Places=%{z}\", \"legendgroup\": \"created_at=2020-03-03 06:23:35 UTC\", \"marker\": {\"color\": \"#19d3f3\", \"symbol\": \"circle\"}, \"mode\": \"markers\", \"name\": \"created_at=2020-03-03 06:23:35 UTC\", \"scene\": \"scene\", \"showlegend\": true, \"type\": \"scatter3d\", \"x\": [283], \"y\": [5.987], \"z\": [\"Kottukal\"]}, {\"hoverlabel\": {\"namelength\": 0}, \"hovertemplate\": \"created_at=2020-03-03 06:23:51 UTC<br>total=%{x}<br>pH rating=%{y}<br>Places=%{z}\", \"legendgroup\": \"created_at=2020-03-03 06:23:51 UTC\", \"marker\": {\"color\": \"#FF6692\", \"symbol\": \"circle\"}, \"mode\": \"markers\", \"name\": \"created_at=2020-03-03 06:23:51 UTC\", \"scene\": \"scene\", \"showlegend\": true, \"type\": \"scatter3d\", \"x\": [294], \"y\": [5.6789], \"z\": [\"Piripincode\"]}, {\"hoverlabel\": {\"namelength\": 0}, \"hovertemplate\": \"created_at=2020-03-03 06:24:07 UTC<br>total=%{x}<br>pH rating=%{y}<br>Places=%{z}\", \"legendgroup\": \"created_at=2020-03-03 06:24:07 UTC\", \"marker\": {\"color\": \"#B6E880\", \"symbol\": \"circle\"}, \"mode\": \"markers\", \"name\": \"created_at=2020-03-03 06:24:07 UTC\", \"scene\": \"scene\", \"showlegend\": true, \"type\": \"scatter3d\", \"x\": [765], \"y\": [4.4567], \"z\": [\"Kottukal\"]}, {\"hoverlabel\": {\"namelength\": 0}, \"hovertemplate\": \"created_at=2020-03-03 06:24:22 UTC<br>total=%{x}<br>pH rating=%{y}<br>Places=%{z}\", \"legendgroup\": \"created_at=2020-03-03 06:24:22 UTC\", \"marker\": {\"color\": \"#FF97FF\", \"symbol\": \"circle\"}, \"mode\": \"markers\", \"name\": \"created_at=2020-03-03 06:24:22 UTC\", \"scene\": \"scene\", \"showlegend\": true, \"type\": \"scatter3d\", \"x\": [764], \"y\": [9.00866], \"z\": [\"Kottukal\"]}, {\"hoverlabel\": {\"namelength\": 0}, \"hovertemplate\": \"created_at=2020-03-03 06:49:34 UTC<br>total=%{x}<br>pH rating=%{y}<br>Places=%{z}\", \"legendgroup\": \"created_at=2020-03-03 06:49:34 UTC\", \"marker\": {\"color\": \"#FECB52\", \"symbol\": \"circle\"}, \"mode\": \"markers\", \"name\": \"created_at=2020-03-03 06:49:34 UTC\", \"scene\": \"scene\", \"showlegend\": true, \"type\": \"scatter3d\", \"x\": [526], \"y\": [4.567], \"z\": [\"Edakkode\"]}, {\"hoverlabel\": {\"namelength\": 0}, \"hovertemplate\": \"created_at=2020-03-03 06:49:50 UTC<br>total=%{x}<br>pH rating=%{y}<br>Places=%{z}\", \"legendgroup\": \"created_at=2020-03-03 06:49:50 UTC\", \"marker\": {\"color\": \"#636efa\", \"symbol\": \"circle\"}, \"mode\": \"markers\", \"name\": \"created_at=2020-03-03 06:49:50 UTC\", \"scene\": \"scene\", \"showlegend\": true, \"type\": \"scatter3d\", \"x\": [590], \"y\": [3.8987], \"z\": [\"Piripincode\"]}, {\"hoverlabel\": {\"namelength\": 0}, \"hovertemplate\": \"created_at=2020-03-03 06:50:06 UTC<br>total=%{x}<br>pH rating=%{y}<br>Places=%{z}\", \"legendgroup\": \"created_at=2020-03-03 06:50:06 UTC\", \"marker\": {\"color\": \"#EF553B\", \"symbol\": \"circle\"}, \"mode\": \"markers\", \"name\": \"created_at=2020-03-03 06:50:06 UTC\", \"scene\": \"scene\", \"showlegend\": true, \"type\": \"scatter3d\", \"x\": [528], \"y\": [3.568], \"z\": [\"Edakkode\"]}, {\"hoverlabel\": {\"namelength\": 0}, \"hovertemplate\": \"created_at=2020-03-03 06:50:22 UTC<br>total=%{x}<br>pH rating=%{y}<br>Places=%{z}\", \"legendgroup\": \"created_at=2020-03-03 06:50:22 UTC\", \"marker\": {\"color\": \"#00cc96\", \"symbol\": \"circle\"}, \"mode\": \"markers\", \"name\": \"created_at=2020-03-03 06:50:22 UTC\", \"scene\": \"scene\", \"showlegend\": true, \"type\": \"scatter3d\", \"x\": [437], \"y\": [3.5669999999999997], \"z\": [\"Kottukal\"]}, {\"hoverlabel\": {\"namelength\": 0}, \"hovertemplate\": \"created_at=2020-03-03 06:50:38 UTC<br>total=%{x}<br>pH rating=%{y}<br>Places=%{z}\", \"legendgroup\": \"created_at=2020-03-03 06:50:38 UTC\", \"marker\": {\"color\": \"#ab63fa\", \"symbol\": \"circle\"}, \"mode\": \"markers\", \"name\": \"created_at=2020-03-03 06:50:38 UTC\", \"scene\": \"scene\", \"showlegend\": true, \"type\": \"scatter3d\", \"x\": [530], \"y\": [5.9987], \"z\": [\"Piripincode\"]}, {\"hoverlabel\": {\"namelength\": 0}, \"hovertemplate\": \"created_at=2020-03-03 06:51:18 UTC<br>total=%{x}<br>pH rating=%{y}<br>Places=%{z}\", \"legendgroup\": \"created_at=2020-03-03 06:51:18 UTC\", \"marker\": {\"color\": \"#FFA15A\", \"symbol\": \"circle\"}, \"mode\": \"markers\", \"name\": \"created_at=2020-03-03 06:51:18 UTC\", \"scene\": \"scene\", \"showlegend\": true, \"type\": \"scatter3d\", \"x\": [456], \"y\": [8.888], \"z\": [\"Piripincode\"]}, {\"hoverlabel\": {\"namelength\": 0}, \"hovertemplate\": \"created_at=2020-03-03 06:51:34 UTC<br>total=%{x}<br>pH rating=%{y}<br>Places=%{z}\", \"legendgroup\": \"created_at=2020-03-03 06:51:34 UTC\", \"marker\": {\"color\": \"#19d3f3\", \"symbol\": \"circle\"}, \"mode\": \"markers\", \"name\": \"created_at=2020-03-03 06:51:34 UTC\", \"scene\": \"scene\", \"showlegend\": true, \"type\": \"scatter3d\", \"x\": [876], \"y\": [8.0909], \"z\": [\"Piripincode\"]}, {\"hoverlabel\": {\"namelength\": 0}, \"hovertemplate\": \"created_at=2020-03-03 06:51:51 UTC<br>total=%{x}<br>pH rating=%{y}<br>Places=%{z}\", \"legendgroup\": \"created_at=2020-03-03 06:51:51 UTC\", \"marker\": {\"color\": \"#FF6692\", \"symbol\": \"circle\"}, \"mode\": \"markers\", \"name\": \"created_at=2020-03-03 06:51:51 UTC\", \"scene\": \"scene\", \"showlegend\": true, \"type\": \"scatter3d\", \"x\": [876], \"y\": [9.876], \"z\": [\"Edakkode\"]}, {\"hoverlabel\": {\"namelength\": 0}, \"hovertemplate\": \"created_at=2020-03-03 06:52:06 UTC<br>total=%{x}<br>pH rating=%{y}<br>Places=%{z}\", \"legendgroup\": \"created_at=2020-03-03 06:52:06 UTC\", \"marker\": {\"color\": \"#B6E880\", \"symbol\": \"circle\"}, \"mode\": \"markers\", \"name\": \"created_at=2020-03-03 06:52:06 UTC\", \"scene\": \"scene\", \"showlegend\": true, \"type\": \"scatter3d\", \"x\": [534], \"y\": [2.678], \"z\": [\"Edakkode\"]}, {\"hoverlabel\": {\"namelength\": 0}, \"hovertemplate\": \"created_at=2020-03-03 06:52:22 UTC<br>total=%{x}<br>pH rating=%{y}<br>Places=%{z}\", \"legendgroup\": \"created_at=2020-03-03 06:52:22 UTC\", \"marker\": {\"color\": \"#FF97FF\", \"symbol\": \"circle\"}, \"mode\": \"markers\", \"name\": \"created_at=2020-03-03 06:52:22 UTC\", \"scene\": \"scene\", \"showlegend\": true, \"type\": \"scatter3d\", \"x\": [876], \"y\": [2.4567], \"z\": [\"Kottukal\"]}, {\"hoverlabel\": {\"namelength\": 0}, \"hovertemplate\": \"created_at=2020-03-03 06:52:38 UTC<br>total=%{x}<br>pH rating=%{y}<br>Places=%{z}\", \"legendgroup\": \"created_at=2020-03-03 06:52:38 UTC\", \"marker\": {\"color\": \"#FECB52\", \"symbol\": \"circle\"}, \"mode\": \"markers\", \"name\": \"created_at=2020-03-03 06:52:38 UTC\", \"scene\": \"scene\", \"showlegend\": true, \"type\": \"scatter3d\", \"x\": [435], \"y\": [5.432], \"z\": [\"Kottukal\"]}, {\"hoverlabel\": {\"namelength\": 0}, \"hovertemplate\": \"created_at=2020-03-03 06:52:45 UTC<br>total=%{x}<br>pH rating=%{y}<br>Places=%{z}\", \"legendgroup\": \"created_at=2020-03-03 06:52:45 UTC\", \"marker\": {\"color\": \"#636efa\", \"symbol\": \"circle\"}, \"mode\": \"markers\", \"name\": \"created_at=2020-03-03 06:52:45 UTC\", \"scene\": \"scene\", \"showlegend\": true, \"type\": \"scatter3d\", \"x\": [678], \"y\": [7.897], \"z\": [\"Edakkode\"]}, {\"hoverlabel\": {\"namelength\": 0}, \"hovertemplate\": \"created_at=2020-03-03 06:52:59 UTC<br>total=%{x}<br>pH rating=%{y}<br>Places=%{z}\", \"legendgroup\": \"created_at=2020-03-03 06:52:59 UTC\", \"marker\": {\"color\": \"#EF553B\", \"symbol\": \"circle\"}, \"mode\": \"markers\", \"name\": \"created_at=2020-03-03 06:52:59 UTC\", \"scene\": \"scene\", \"showlegend\": true, \"type\": \"scatter3d\", \"x\": [543], \"y\": [7.876], \"z\": [\"Piripincode\"]}, {\"hoverlabel\": {\"namelength\": 0}, \"hovertemplate\": \"created_at=2020-03-03 06:53:38 UTC<br>total=%{x}<br>pH rating=%{y}<br>Places=%{z}\", \"legendgroup\": \"created_at=2020-03-03 06:53:38 UTC\", \"marker\": {\"color\": \"#00cc96\", \"symbol\": \"circle\"}, \"mode\": \"markers\", \"name\": \"created_at=2020-03-03 06:53:38 UTC\", \"scene\": \"scene\", \"showlegend\": true, \"type\": \"scatter3d\", \"x\": [987], \"y\": [8.062999999999999], \"z\": [\"Kottukal\"]}, {\"hoverlabel\": {\"namelength\": 0}, \"hovertemplate\": \"created_at=2020-03-03 06:53:46 UTC<br>total=%{x}<br>pH rating=%{y}<br>Places=%{z}\", \"legendgroup\": \"created_at=2020-03-03 06:53:46 UTC\", \"marker\": {\"color\": \"#ab63fa\", \"symbol\": \"circle\"}, \"mode\": \"markers\", \"name\": \"created_at=2020-03-03 06:53:46 UTC\", \"scene\": \"scene\", \"showlegend\": true, \"type\": \"scatter3d\", \"x\": [654], \"y\": [8.98], \"z\": [\"Edakkode\"]}, {\"hoverlabel\": {\"namelength\": 0}, \"hovertemplate\": \"created_at=2020-03-03 06:54:18 UTC<br>total=%{x}<br>pH rating=%{y}<br>Places=%{z}\", \"legendgroup\": \"created_at=2020-03-03 06:54:18 UTC\", \"marker\": {\"color\": \"#FFA15A\", \"symbol\": \"circle\"}, \"mode\": \"markers\", \"name\": \"created_at=2020-03-03 06:54:18 UTC\", \"scene\": \"scene\", \"showlegend\": true, \"type\": \"scatter3d\", \"x\": [213], \"y\": [9.087], \"z\": [\"Kottukal\"]}, {\"hoverlabel\": {\"namelength\": 0}, \"hovertemplate\": \"created_at=2020-03-03 06:54:30 UTC<br>total=%{x}<br>pH rating=%{y}<br>Places=%{z}\", \"legendgroup\": \"created_at=2020-03-03 06:54:30 UTC\", \"marker\": {\"color\": \"#19d3f3\", \"symbol\": \"circle\"}, \"mode\": \"markers\", \"name\": \"created_at=2020-03-03 06:54:30 UTC\", \"scene\": \"scene\", \"showlegend\": true, \"type\": \"scatter3d\", \"x\": [231], \"y\": [7.234], \"z\": [\"Piripincode\"]}, {\"hoverlabel\": {\"namelength\": 0}, \"hovertemplate\": \"created_at=2020-03-03 06:54:38 UTC<br>total=%{x}<br>pH rating=%{y}<br>Places=%{z}\", \"legendgroup\": \"created_at=2020-03-03 06:54:38 UTC\", \"marker\": {\"color\": \"#FF6692\", \"symbol\": \"circle\"}, \"mode\": \"markers\", \"name\": \"created_at=2020-03-03 06:54:38 UTC\", \"scene\": \"scene\", \"showlegend\": true, \"type\": \"scatter3d\", \"x\": [343], \"y\": [6.432], \"z\": [\"Piripincode\"]}, {\"hoverlabel\": {\"namelength\": 0}, \"hovertemplate\": \"created_at=2020-03-03 06:54:56 UTC<br>total=%{x}<br>pH rating=%{y}<br>Places=%{z}\", \"legendgroup\": \"created_at=2020-03-03 06:54:56 UTC\", \"marker\": {\"color\": \"#B6E880\", \"symbol\": \"circle\"}, \"mode\": \"markers\", \"name\": \"created_at=2020-03-03 06:54:56 UTC\", \"scene\": \"scene\", \"showlegend\": true, \"type\": \"scatter3d\", \"x\": [657], \"y\": [9.001], \"z\": [\"Edakkode\"]}, {\"hoverlabel\": {\"namelength\": 0}, \"hovertemplate\": \"created_at=2020-03-03 06:55:19 UTC<br>total=%{x}<br>pH rating=%{y}<br>Places=%{z}\", \"legendgroup\": \"created_at=2020-03-03 06:55:19 UTC\", \"marker\": {\"color\": \"#FF97FF\", \"symbol\": \"circle\"}, \"mode\": \"markers\", \"name\": \"created_at=2020-03-03 06:55:19 UTC\", \"scene\": \"scene\", \"showlegend\": true, \"type\": \"scatter3d\", \"x\": [786], \"y\": [9.121], \"z\": [\"Edakkode\"]}, {\"hoverlabel\": {\"namelength\": 0}, \"hovertemplate\": \"created_at=2020-03-03 06:55:25 UTC<br>total=%{x}<br>pH rating=%{y}<br>Places=%{z}\", \"legendgroup\": \"created_at=2020-03-03 06:55:25 UTC\", \"marker\": {\"color\": \"#FECB52\", \"symbol\": \"circle\"}, \"mode\": \"markers\", \"name\": \"created_at=2020-03-03 06:55:25 UTC\", \"scene\": \"scene\", \"showlegend\": true, \"type\": \"scatter3d\", \"x\": [432], \"y\": [2.1430000000000002], \"z\": [\"Kottukal\"]}, {\"hoverlabel\": {\"namelength\": 0}, \"hovertemplate\": \"created_at=2020-03-03 06:55:38 UTC<br>total=%{x}<br>pH rating=%{y}<br>Places=%{z}\", \"legendgroup\": \"created_at=2020-03-03 06:55:38 UTC\", \"marker\": {\"color\": \"#636efa\", \"symbol\": \"circle\"}, \"mode\": \"markers\", \"name\": \"created_at=2020-03-03 06:55:38 UTC\", \"scene\": \"scene\", \"showlegend\": true, \"type\": \"scatter3d\", \"x\": [432], \"y\": [2.345], \"z\": [\"Piripincode\"]}, {\"hoverlabel\": {\"namelength\": 0}, \"hovertemplate\": \"created_at=2020-03-03 06:56:01 UTC<br>total=%{x}<br>pH rating=%{y}<br>Places=%{z}\", \"legendgroup\": \"created_at=2020-03-03 06:56:01 UTC\", \"marker\": {\"color\": \"#EF553B\", \"symbol\": \"circle\"}, \"mode\": \"markers\", \"name\": \"created_at=2020-03-03 06:56:01 UTC\", \"scene\": \"scene\", \"showlegend\": true, \"type\": \"scatter3d\", \"x\": [543], \"y\": [3.5460000000000003], \"z\": [\"Kottukal\"]}, {\"hoverlabel\": {\"namelength\": 0}, \"hovertemplate\": \"created_at=2020-03-03 06:56:40 UTC<br>total=%{x}<br>pH rating=%{y}<br>Places=%{z}\", \"legendgroup\": \"created_at=2020-03-03 06:56:40 UTC\", \"marker\": {\"color\": \"#00cc96\", \"symbol\": \"circle\"}, \"mode\": \"markers\", \"name\": \"created_at=2020-03-03 06:56:40 UTC\", \"scene\": \"scene\", \"showlegend\": true, \"type\": \"scatter3d\", \"x\": [978], \"y\": [3.452], \"z\": [\"Edakkode\"]}, {\"hoverlabel\": {\"namelength\": 0}, \"hovertemplate\": \"created_at=2020-03-03 06:56:58 UTC<br>total=%{x}<br>pH rating=%{y}<br>Places=%{z}\", \"legendgroup\": \"created_at=2020-03-03 06:56:58 UTC\", \"marker\": {\"color\": \"#ab63fa\", \"symbol\": \"circle\"}, \"mode\": \"markers\", \"name\": \"created_at=2020-03-03 06:56:58 UTC\", \"scene\": \"scene\", \"showlegend\": true, \"type\": \"scatter3d\", \"x\": [670], \"y\": [6.456], \"z\": [\"Kottukal\"]}, {\"hoverlabel\": {\"namelength\": 0}, \"hovertemplate\": \"created_at=2020-03-03 06:57:06 UTC<br>total=%{x}<br>pH rating=%{y}<br>Places=%{z}\", \"legendgroup\": \"created_at=2020-03-03 06:57:06 UTC\", \"marker\": {\"color\": \"#FFA15A\", \"symbol\": \"circle\"}, \"mode\": \"markers\", \"name\": \"created_at=2020-03-03 06:57:06 UTC\", \"scene\": \"scene\", \"showlegend\": true, \"type\": \"scatter3d\", \"x\": [687], \"y\": [6.542999999999999], \"z\": [\"Piripincode\"]}, {\"hoverlabel\": {\"namelength\": 0}, \"hovertemplate\": \"created_at=2020-03-03 06:57:28 UTC<br>total=%{x}<br>pH rating=%{y}<br>Places=%{z}\", \"legendgroup\": \"created_at=2020-03-03 06:57:28 UTC\", \"marker\": {\"color\": \"#19d3f3\", \"symbol\": \"circle\"}, \"mode\": \"markers\", \"name\": \"created_at=2020-03-03 06:57:28 UTC\", \"scene\": \"scene\", \"showlegend\": true, \"type\": \"scatter3d\", \"x\": [654], \"y\": [7.321000000000001], \"z\": [\"Edakkode\"]}, {\"hoverlabel\": {\"namelength\": 0}, \"hovertemplate\": \"created_at=2020-03-03 06:57:36 UTC<br>total=%{x}<br>pH rating=%{y}<br>Places=%{z}\", \"legendgroup\": \"created_at=2020-03-03 06:57:36 UTC\", \"marker\": {\"color\": \"#FF6692\", \"symbol\": \"circle\"}, \"mode\": \"markers\", \"name\": \"created_at=2020-03-03 06:57:36 UTC\", \"scene\": \"scene\", \"showlegend\": true, \"type\": \"scatter3d\", \"x\": [643], \"y\": [7.234], \"z\": [\"Edakkode\"]}, {\"hoverlabel\": {\"namelength\": 0}, \"hovertemplate\": \"created_at=2020-03-03 06:57:50 UTC<br>total=%{x}<br>pH rating=%{y}<br>Places=%{z}\", \"legendgroup\": \"created_at=2020-03-03 06:57:50 UTC\", \"marker\": {\"color\": \"#B6E880\", \"symbol\": \"circle\"}, \"mode\": \"markers\", \"name\": \"created_at=2020-03-03 06:57:50 UTC\", \"scene\": \"scene\", \"showlegend\": true, \"type\": \"scatter3d\", \"x\": [304], \"y\": [5.678], \"z\": [\"Kottukal\"]}, {\"hoverlabel\": {\"namelength\": 0}, \"hovertemplate\": \"created_at=2020-03-03 06:57:54 UTC<br>total=%{x}<br>pH rating=%{y}<br>Places=%{z}\", \"legendgroup\": \"created_at=2020-03-03 06:57:54 UTC\", \"marker\": {\"color\": \"#FF97FF\", \"symbol\": \"circle\"}, \"mode\": \"markers\", \"name\": \"created_at=2020-03-03 06:57:54 UTC\", \"scene\": \"scene\", \"showlegend\": true, \"type\": \"scatter3d\", \"x\": [432], \"y\": [5.008], \"z\": [\"Piripincode\"]}, {\"hoverlabel\": {\"namelength\": 0}, \"hovertemplate\": \"created_at=2020-03-03 06:58:08 UTC<br>total=%{x}<br>pH rating=%{y}<br>Places=%{z}\", \"legendgroup\": \"created_at=2020-03-03 06:58:08 UTC\", \"marker\": {\"color\": \"#FECB52\", \"symbol\": \"circle\"}, \"mode\": \"markers\", \"name\": \"created_at=2020-03-03 06:58:08 UTC\", \"scene\": \"scene\", \"showlegend\": true, \"type\": \"scatter3d\", \"x\": [200], \"y\": [6.49], \"z\": [\"Kottukal\"]}, {\"hoverlabel\": {\"namelength\": 0}, \"hovertemplate\": \"created_at=2020-03-03 06:58:31 UTC<br>total=%{x}<br>pH rating=%{y}<br>Places=%{z}\", \"legendgroup\": \"created_at=2020-03-03 06:58:31 UTC\", \"marker\": {\"color\": \"#636efa\", \"symbol\": \"circle\"}, \"mode\": \"markers\", \"name\": \"created_at=2020-03-03 06:58:31 UTC\", \"scene\": \"scene\", \"showlegend\": true, \"type\": \"scatter3d\", \"x\": [641], \"y\": [6.0089999999999995], \"z\": [\"Piripincode\"]}, {\"hoverlabel\": {\"namelength\": 0}, \"hovertemplate\": \"created_at=2020-03-03 06:58:38 UTC<br>total=%{x}<br>pH rating=%{y}<br>Places=%{z}\", \"legendgroup\": \"created_at=2020-03-03 06:58:38 UTC\", \"marker\": {\"color\": \"#EF553B\", \"symbol\": \"circle\"}, \"mode\": \"markers\", \"name\": \"created_at=2020-03-03 06:58:38 UTC\", \"scene\": \"scene\", \"showlegend\": true, \"type\": \"scatter3d\", \"x\": [132], \"y\": [3.0], \"z\": [\"Edakkode\"]}, {\"hoverlabel\": {\"namelength\": 0}, \"hovertemplate\": \"created_at=2020-03-03 06:58:42 UTC<br>total=%{x}<br>pH rating=%{y}<br>Places=%{z}\", \"legendgroup\": \"created_at=2020-03-03 06:58:42 UTC\", \"marker\": {\"color\": \"#00cc96\", \"symbol\": \"circle\"}, \"mode\": \"markers\", \"name\": \"created_at=2020-03-03 06:58:42 UTC\", \"scene\": \"scene\", \"showlegend\": true, \"type\": \"scatter3d\", \"x\": [162], \"y\": [5.0], \"z\": [\"Piripincode\"]}, {\"hoverlabel\": {\"namelength\": 0}, \"hovertemplate\": \"created_at=2020-03-03 06:58:50 UTC<br>total=%{x}<br>pH rating=%{y}<br>Places=%{z}\", \"legendgroup\": \"created_at=2020-03-03 06:58:50 UTC\", \"marker\": {\"color\": \"#ab63fa\", \"symbol\": \"circle\"}, \"mode\": \"markers\", \"name\": \"created_at=2020-03-03 06:58:50 UTC\", \"scene\": \"scene\", \"showlegend\": true, \"type\": \"scatter3d\", \"x\": [174], \"y\": [5.66], \"z\": [\"Kottukal\"]}, {\"hoverlabel\": {\"namelength\": 0}, \"hovertemplate\": \"created_at=2020-03-03 06:58:59 UTC<br>total=%{x}<br>pH rating=%{y}<br>Places=%{z}\", \"legendgroup\": \"created_at=2020-03-03 06:58:59 UTC\", \"marker\": {\"color\": \"#FFA15A\", \"symbol\": \"circle\"}, \"mode\": \"markers\", \"name\": \"created_at=2020-03-03 06:58:59 UTC\", \"scene\": \"scene\", \"showlegend\": true, \"type\": \"scatter3d\", \"x\": [567], \"y\": [5.999], \"z\": [\"Kottukal\"]}, {\"hoverlabel\": {\"namelength\": 0}, \"hovertemplate\": \"created_at=2020-03-03 06:59:17 UTC<br>total=%{x}<br>pH rating=%{y}<br>Places=%{z}\", \"legendgroup\": \"created_at=2020-03-03 06:59:17 UTC\", \"marker\": {\"color\": \"#19d3f3\", \"symbol\": \"circle\"}, \"mode\": \"markers\", \"name\": \"created_at=2020-03-03 06:59:17 UTC\", \"scene\": \"scene\", \"showlegend\": true, \"type\": \"scatter3d\", \"x\": [764], \"y\": [6.1], \"z\": [\"Piripincode\"]}, {\"hoverlabel\": {\"namelength\": 0}, \"hovertemplate\": \"created_at=2020-03-03 06:59:26 UTC<br>total=%{x}<br>pH rating=%{y}<br>Places=%{z}\", \"legendgroup\": \"created_at=2020-03-03 06:59:26 UTC\", \"marker\": {\"color\": \"#FF6692\", \"symbol\": \"circle\"}, \"mode\": \"markers\", \"name\": \"created_at=2020-03-03 06:59:26 UTC\", \"scene\": \"scene\", \"showlegend\": true, \"type\": \"scatter3d\", \"x\": [264], \"y\": [4.875], \"z\": [\"Edakkode\"]}, {\"hoverlabel\": {\"namelength\": 0}, \"hovertemplate\": \"created_at=2020-03-03 06:59:48 UTC<br>total=%{x}<br>pH rating=%{y}<br>Places=%{z}\", \"legendgroup\": \"created_at=2020-03-03 06:59:48 UTC\", \"marker\": {\"color\": \"#B6E880\", \"symbol\": \"circle\"}, \"mode\": \"markers\", \"name\": \"created_at=2020-03-03 06:59:48 UTC\", \"scene\": \"scene\", \"showlegend\": true, \"type\": \"scatter3d\", \"x\": [321], \"y\": [3.4560000000000004], \"z\": [\"Edakkode\"]}, {\"hoverlabel\": {\"namelength\": 0}, \"hovertemplate\": \"created_at=2020-03-03 07:00:38 UTC<br>total=%{x}<br>pH rating=%{y}<br>Places=%{z}\", \"legendgroup\": \"created_at=2020-03-03 07:00:38 UTC\", \"marker\": {\"color\": \"#FF97FF\", \"symbol\": \"circle\"}, \"mode\": \"markers\", \"name\": \"created_at=2020-03-03 07:00:38 UTC\", \"scene\": \"scene\", \"showlegend\": true, \"type\": \"scatter3d\", \"x\": [384], \"y\": [9.0], \"z\": [\"Kottukal\"]}],\n",
              "                        {\"legend\": {\"tracegroupgap\": 0}, \"margin\": {\"t\": 60}, \"scene\": {\"domain\": {\"x\": [0.0, 1.0], \"y\": [0.0, 1.0]}, \"xaxis\": {\"title\": {\"text\": \"total\"}}, \"yaxis\": {\"title\": {\"text\": \"pH rating\"}}, \"zaxis\": {\"title\": {\"text\": \"Places\"}}}, \"template\": {\"data\": {\"bar\": [{\"error_x\": {\"color\": \"#2a3f5f\"}, \"error_y\": {\"color\": \"#2a3f5f\"}, \"marker\": {\"line\": {\"color\": \"#E5ECF6\", \"width\": 0.5}}, \"type\": \"bar\"}], \"barpolar\": [{\"marker\": {\"line\": {\"color\": \"#E5ECF6\", \"width\": 0.5}}, \"type\": \"barpolar\"}], \"carpet\": [{\"aaxis\": {\"endlinecolor\": \"#2a3f5f\", \"gridcolor\": \"white\", \"linecolor\": \"white\", \"minorgridcolor\": \"white\", \"startlinecolor\": \"#2a3f5f\"}, \"baxis\": {\"endlinecolor\": \"#2a3f5f\", \"gridcolor\": \"white\", \"linecolor\": \"white\", \"minorgridcolor\": \"white\", \"startlinecolor\": \"#2a3f5f\"}, \"type\": \"carpet\"}], \"choropleth\": [{\"colorbar\": {\"outlinewidth\": 0, \"ticks\": \"\"}, \"type\": \"choropleth\"}], \"contour\": [{\"colorbar\": {\"outlinewidth\": 0, \"ticks\": \"\"}, \"colorscale\": [[0.0, \"#0d0887\"], [0.1111111111111111, \"#46039f\"], [0.2222222222222222, \"#7201a8\"], [0.3333333333333333, \"#9c179e\"], [0.4444444444444444, \"#bd3786\"], [0.5555555555555556, \"#d8576b\"], [0.6666666666666666, \"#ed7953\"], [0.7777777777777778, \"#fb9f3a\"], [0.8888888888888888, \"#fdca26\"], [1.0, \"#f0f921\"]], \"type\": \"contour\"}], \"contourcarpet\": [{\"colorbar\": {\"outlinewidth\": 0, \"ticks\": \"\"}, \"type\": \"contourcarpet\"}], \"heatmap\": [{\"colorbar\": {\"outlinewidth\": 0, \"ticks\": \"\"}, \"colorscale\": [[0.0, \"#0d0887\"], [0.1111111111111111, \"#46039f\"], [0.2222222222222222, \"#7201a8\"], [0.3333333333333333, \"#9c179e\"], [0.4444444444444444, \"#bd3786\"], [0.5555555555555556, \"#d8576b\"], [0.6666666666666666, \"#ed7953\"], [0.7777777777777778, \"#fb9f3a\"], [0.8888888888888888, \"#fdca26\"], [1.0, \"#f0f921\"]], \"type\": \"heatmap\"}], \"heatmapgl\": [{\"colorbar\": {\"outlinewidth\": 0, \"ticks\": \"\"}, \"colorscale\": [[0.0, \"#0d0887\"], [0.1111111111111111, \"#46039f\"], [0.2222222222222222, \"#7201a8\"], [0.3333333333333333, \"#9c179e\"], [0.4444444444444444, \"#bd3786\"], [0.5555555555555556, \"#d8576b\"], [0.6666666666666666, \"#ed7953\"], [0.7777777777777778, \"#fb9f3a\"], [0.8888888888888888, \"#fdca26\"], [1.0, \"#f0f921\"]], \"type\": \"heatmapgl\"}], \"histogram\": [{\"marker\": {\"colorbar\": {\"outlinewidth\": 0, \"ticks\": \"\"}}, \"type\": \"histogram\"}], \"histogram2d\": [{\"colorbar\": {\"outlinewidth\": 0, \"ticks\": \"\"}, \"colorscale\": [[0.0, \"#0d0887\"], [0.1111111111111111, \"#46039f\"], [0.2222222222222222, \"#7201a8\"], [0.3333333333333333, \"#9c179e\"], [0.4444444444444444, \"#bd3786\"], [0.5555555555555556, \"#d8576b\"], [0.6666666666666666, \"#ed7953\"], [0.7777777777777778, \"#fb9f3a\"], [0.8888888888888888, \"#fdca26\"], [1.0, \"#f0f921\"]], \"type\": \"histogram2d\"}], \"histogram2dcontour\": [{\"colorbar\": {\"outlinewidth\": 0, \"ticks\": \"\"}, \"colorscale\": [[0.0, \"#0d0887\"], [0.1111111111111111, \"#46039f\"], [0.2222222222222222, \"#7201a8\"], [0.3333333333333333, \"#9c179e\"], [0.4444444444444444, \"#bd3786\"], [0.5555555555555556, \"#d8576b\"], [0.6666666666666666, \"#ed7953\"], [0.7777777777777778, \"#fb9f3a\"], [0.8888888888888888, \"#fdca26\"], [1.0, \"#f0f921\"]], \"type\": \"histogram2dcontour\"}], \"mesh3d\": [{\"colorbar\": {\"outlinewidth\": 0, \"ticks\": \"\"}, \"type\": \"mesh3d\"}], \"parcoords\": [{\"line\": {\"colorbar\": {\"outlinewidth\": 0, \"ticks\": \"\"}}, \"type\": \"parcoords\"}], \"pie\": [{\"automargin\": true, \"type\": \"pie\"}], \"scatter\": [{\"marker\": {\"colorbar\": {\"outlinewidth\": 0, \"ticks\": \"\"}}, \"type\": \"scatter\"}], \"scatter3d\": [{\"line\": {\"colorbar\": {\"outlinewidth\": 0, \"ticks\": \"\"}}, \"marker\": {\"colorbar\": {\"outlinewidth\": 0, \"ticks\": \"\"}}, \"type\": \"scatter3d\"}], \"scattercarpet\": [{\"marker\": {\"colorbar\": {\"outlinewidth\": 0, \"ticks\": \"\"}}, \"type\": \"scattercarpet\"}], \"scattergeo\": [{\"marker\": {\"colorbar\": {\"outlinewidth\": 0, \"ticks\": \"\"}}, \"type\": \"scattergeo\"}], \"scattergl\": [{\"marker\": {\"colorbar\": {\"outlinewidth\": 0, \"ticks\": \"\"}}, \"type\": \"scattergl\"}], \"scattermapbox\": [{\"marker\": {\"colorbar\": {\"outlinewidth\": 0, \"ticks\": \"\"}}, \"type\": \"scattermapbox\"}], \"scatterpolar\": [{\"marker\": {\"colorbar\": {\"outlinewidth\": 0, \"ticks\": \"\"}}, \"type\": \"scatterpolar\"}], \"scatterpolargl\": [{\"marker\": {\"colorbar\": {\"outlinewidth\": 0, \"ticks\": \"\"}}, \"type\": \"scatterpolargl\"}], \"scatterternary\": [{\"marker\": {\"colorbar\": {\"outlinewidth\": 0, \"ticks\": \"\"}}, \"type\": \"scatterternary\"}], \"surface\": [{\"colorbar\": {\"outlinewidth\": 0, \"ticks\": \"\"}, \"colorscale\": [[0.0, \"#0d0887\"], [0.1111111111111111, \"#46039f\"], [0.2222222222222222, \"#7201a8\"], [0.3333333333333333, \"#9c179e\"], [0.4444444444444444, \"#bd3786\"], [0.5555555555555556, \"#d8576b\"], [0.6666666666666666, \"#ed7953\"], [0.7777777777777778, \"#fb9f3a\"], [0.8888888888888888, \"#fdca26\"], [1.0, \"#f0f921\"]], \"type\": \"surface\"}], \"table\": [{\"cells\": {\"fill\": {\"color\": \"#EBF0F8\"}, \"line\": {\"color\": \"white\"}}, \"header\": {\"fill\": {\"color\": \"#C8D4E3\"}, \"line\": {\"color\": \"white\"}}, \"type\": \"table\"}]}, \"layout\": {\"annotationdefaults\": {\"arrowcolor\": \"#2a3f5f\", \"arrowhead\": 0, \"arrowwidth\": 1}, \"coloraxis\": {\"colorbar\": {\"outlinewidth\": 0, \"ticks\": \"\"}}, \"colorscale\": {\"diverging\": [[0, \"#8e0152\"], [0.1, \"#c51b7d\"], [0.2, \"#de77ae\"], [0.3, \"#f1b6da\"], [0.4, \"#fde0ef\"], [0.5, \"#f7f7f7\"], [0.6, \"#e6f5d0\"], [0.7, \"#b8e186\"], [0.8, \"#7fbc41\"], [0.9, \"#4d9221\"], [1, \"#276419\"]], \"sequential\": [[0.0, \"#0d0887\"], [0.1111111111111111, \"#46039f\"], [0.2222222222222222, \"#7201a8\"], [0.3333333333333333, \"#9c179e\"], [0.4444444444444444, \"#bd3786\"], [0.5555555555555556, \"#d8576b\"], [0.6666666666666666, \"#ed7953\"], [0.7777777777777778, \"#fb9f3a\"], [0.8888888888888888, \"#fdca26\"], [1.0, \"#f0f921\"]], \"sequentialminus\": [[0.0, \"#0d0887\"], [0.1111111111111111, \"#46039f\"], [0.2222222222222222, \"#7201a8\"], [0.3333333333333333, \"#9c179e\"], [0.4444444444444444, \"#bd3786\"], [0.5555555555555556, \"#d8576b\"], [0.6666666666666666, \"#ed7953\"], [0.7777777777777778, \"#fb9f3a\"], [0.8888888888888888, \"#fdca26\"], [1.0, \"#f0f921\"]]}, \"colorway\": [\"#636efa\", \"#EF553B\", \"#00cc96\", \"#ab63fa\", \"#FFA15A\", \"#19d3f3\", \"#FF6692\", \"#B6E880\", \"#FF97FF\", \"#FECB52\"], \"font\": {\"color\": \"#2a3f5f\"}, \"geo\": {\"bgcolor\": \"white\", \"lakecolor\": \"white\", \"landcolor\": \"#E5ECF6\", \"showlakes\": true, \"showland\": true, \"subunitcolor\": \"white\"}, \"hoverlabel\": {\"align\": \"left\"}, \"hovermode\": \"closest\", \"mapbox\": {\"style\": \"light\"}, \"paper_bgcolor\": \"white\", \"plot_bgcolor\": \"#E5ECF6\", \"polar\": {\"angularaxis\": {\"gridcolor\": \"white\", \"linecolor\": \"white\", \"ticks\": \"\"}, \"bgcolor\": \"#E5ECF6\", \"radialaxis\": {\"gridcolor\": \"white\", \"linecolor\": \"white\", \"ticks\": \"\"}}, \"scene\": {\"xaxis\": {\"backgroundcolor\": \"#E5ECF6\", \"gridcolor\": \"white\", \"gridwidth\": 2, \"linecolor\": \"white\", \"showbackground\": true, \"ticks\": \"\", \"zerolinecolor\": \"white\"}, \"yaxis\": {\"backgroundcolor\": \"#E5ECF6\", \"gridcolor\": \"white\", \"gridwidth\": 2, \"linecolor\": \"white\", \"showbackground\": true, \"ticks\": \"\", \"zerolinecolor\": \"white\"}, \"zaxis\": {\"backgroundcolor\": \"#E5ECF6\", \"gridcolor\": \"white\", \"gridwidth\": 2, \"linecolor\": \"white\", \"showbackground\": true, \"ticks\": \"\", \"zerolinecolor\": \"white\"}}, \"shapedefaults\": {\"line\": {\"color\": \"#2a3f5f\"}}, \"ternary\": {\"aaxis\": {\"gridcolor\": \"white\", \"linecolor\": \"white\", \"ticks\": \"\"}, \"baxis\": {\"gridcolor\": \"white\", \"linecolor\": \"white\", \"ticks\": \"\"}, \"bgcolor\": \"#E5ECF6\", \"caxis\": {\"gridcolor\": \"white\", \"linecolor\": \"white\", \"ticks\": \"\"}}, \"title\": {\"x\": 0.05}, \"xaxis\": {\"automargin\": true, \"gridcolor\": \"white\", \"linecolor\": \"white\", \"ticks\": \"\", \"title\": {\"standoff\": 15}, \"zerolinecolor\": \"white\", \"zerolinewidth\": 2}, \"yaxis\": {\"automargin\": true, \"gridcolor\": \"white\", \"linecolor\": \"white\", \"ticks\": \"\", \"title\": {\"standoff\": 15}, \"zerolinecolor\": \"white\", \"zerolinewidth\": 2}}}},\n",
              "                        {\"responsive\": true}\n",
              "                    ).then(function(){\n",
              "                            \n",
              "var gd = document.getElementById('abdabe89-d4af-4bb4-b3ca-887698fdf6e6');\n",
              "var x = new MutationObserver(function (mutations, observer) {{\n",
              "        var display = window.getComputedStyle(gd).display;\n",
              "        if (!display || display === 'none') {{\n",
              "            console.log([gd, 'removed!']);\n",
              "            Plotly.purge(gd);\n",
              "            observer.disconnect();\n",
              "        }}\n",
              "}});\n",
              "\n",
              "// Listen for the removal of the full notebook cells\n",
              "var notebookContainer = gd.closest('#notebook-container');\n",
              "if (notebookContainer) {{\n",
              "    x.observe(notebookContainer, {childList: true});\n",
              "}}\n",
              "\n",
              "// Listen for the clearing of the current output cell\n",
              "var outputEl = gd.closest('.output');\n",
              "if (outputEl) {{\n",
              "    x.observe(outputEl, {childList: true});\n",
              "}}\n",
              "\n",
              "                        })\n",
              "                };\n",
              "                \n",
              "            </script>\n",
              "        </div>\n",
              "</body>\n",
              "</html>"
            ]
          },
          "metadata": {
            "tags": []
          }
        }
      ]
    },
    {
      "cell_type": "markdown",
      "metadata": {
        "id": "kCg5iYLO4mvm",
        "colab_type": "text"
      },
      "source": [
        "## Predicting Results"
      ]
    },
    {
      "cell_type": "code",
      "metadata": {
        "id": "Bryyawp9OkBB",
        "colab_type": "code",
        "colab": {
          "base_uri": "https://localhost:8080/",
          "height": 87
        },
        "outputId": "11d84eeb-5074-427f-ce49-eda506b24fb9"
      },
      "source": [
        "dataset['Places'].value_counts()"
      ],
      "execution_count": null,
      "outputs": [
        {
          "output_type": "execute_result",
          "data": {
            "text/plain": [
              "Edakkode       50\n",
              "Kottukal       41\n",
              "Piripincode    38\n",
              "Name: Places, dtype: int64"
            ]
          },
          "metadata": {
            "tags": []
          },
          "execution_count": 17
        }
      ]
    },
    {
      "cell_type": "code",
      "metadata": {
        "id": "FWyI4d1FQq2V",
        "colab_type": "code",
        "colab": {
          "base_uri": "https://localhost:8080/",
          "height": 35
        },
        "outputId": "6db760c9-281e-45ff-d930-13194ace7f16"
      },
      "source": [
        "dataset['Places'].value_counts().index"
      ],
      "execution_count": null,
      "outputs": [
        {
          "output_type": "execute_result",
          "data": {
            "text/plain": [
              "Index(['Edakkode', 'Kottukal', 'Piripincode'], dtype='object')"
            ]
          },
          "metadata": {
            "tags": []
          },
          "execution_count": 18
        }
      ]
    },
    {
      "cell_type": "code",
      "metadata": {
        "id": "Uiog7chHQ6Bm",
        "colab_type": "code",
        "colab": {
          "base_uri": "https://localhost:8080/",
          "height": 265
        },
        "outputId": "64f66120-7903-4fdb-c45a-d60ba405e3ed"
      },
      "source": [
        "import matplotlib.pyplot as plt\n",
        "plt.bar(dataset['Places'].value_counts().index,dataset['Places'].value_counts())\n",
        "plt.show()"
      ],
      "execution_count": null,
      "outputs": [
        {
          "output_type": "display_data",
          "data": {
            "image/png": "[encoded data removed]",
            "text/plain": [
              "<Figure size 432x288 with 1 Axes>"
            ]
          },
          "metadata": {
            "tags": []
          }
        }
      ]
    },
    {
      "cell_type": "code",
      "metadata": {
        "id": "VB8vZ5D4RI__",
        "colab_type": "code",
        "colab": {
          "base_uri": "https://localhost:8080/",
          "height": 245
        },
        "outputId": "0cda5b2b-4cb0-4eba-b4a8-09b86d1d88b9"
      },
      "source": [
        "import numpy as np\n",
        "z = np.arange(1,48)\n",
        "from sklearn.model_selection import GridSearchCV\n",
        "param = {'n_neighbors':z}\n",
        "model = KNeighborsClassifier()\n",
        "model_grid = GridSearchCV(model,param)\n",
        "model_grid.fit(X,y)"
      ],
      "execution_count": null,
      "outputs": [
        {
          "output_type": "execute_result",
          "data": {
            "text/plain": [
              "GridSearchCV(cv=None, error_score=nan,\n",
              "             estimator=KNeighborsClassifier(algorithm='auto', leaf_size=30,\n",
              "                                            metric='minkowski',\n",
              "                                            metric_params=None, n_jobs=None,\n",
              "                                            n_neighbors=5, p=2,\n",
              "                                            weights='uniform'),\n",
              "             iid='deprecated', n_jobs=None,\n",
              "             param_grid={'n_neighbors': array([ 1,  2,  3,  4,  5,  6,  7,  8,  9, 10, 11, 12, 13, 14, 15, 16, 17,\n",
              "       18, 19, 20, 21, 22, 23, 24, 25, 26, 27, 28, 29, 30, 31, 32, 33, 34,\n",
              "       35, 36, 37, 38, 39, 40, 41, 42, 43, 44, 45, 46, 47])},\n",
              "             pre_dispatch='2*n_jobs', refit=True, return_train_score=False,\n",
              "             scoring=None, verbose=0)"
            ]
          },
          "metadata": {
            "tags": []
          },
          "execution_count": 20
        }
      ]
    },
    {
      "cell_type": "code",
      "metadata": {
        "id": "5B4htIkuSLuR",
        "colab_type": "code",
        "colab": {
          "base_uri": "https://localhost:8080/",
          "height": 35
        },
        "outputId": "1c4f7f9b-ef42-4307-ce8a-63df093fd751"
      },
      "source": [
        "model_grid.best_params_"
      ],
      "execution_count": null,
      "outputs": [
        {
          "output_type": "execute_result",
          "data": {
            "text/plain": [
              "{'n_neighbors': 12}"
            ]
          },
          "metadata": {
            "tags": []
          },
          "execution_count": 21
        }
      ]
    },
    {
      "cell_type": "markdown",
      "metadata": {
        "id": "1ZPJ_O2P42w-",
        "colab_type": "text"
      },
      "source": [
        "### Predicting the region with poorest water quality"
      ]
    },
    {
      "cell_type": "code",
      "metadata": {
        "id": "_Ze5hHrfUgQA",
        "colab_type": "code",
        "colab": {}
      },
      "source": [
        "means = dataset.groupby('Places')['pH rating'].mean()\n"
      ],
      "execution_count": null,
      "outputs": []
    },
    {
      "cell_type": "code",
      "metadata": {
        "id": "SZhnKEC0VWW-",
        "colab_type": "code",
        "colab": {
          "base_uri": "https://localhost:8080/",
          "height": 104
        },
        "outputId": "003a7d81-8975-4b1f-baa4-09412cbbcb60"
      },
      "source": [
        "means"
      ],
      "execution_count": null,
      "outputs": [
        {
          "output_type": "execute_result",
          "data": {
            "text/plain": [
              "Places\n",
              "Edakkode       5.801759\n",
              "Kottukal       6.472177\n",
              "Piripincode    6.341403\n",
              "Name: pH rating, dtype: float64"
            ]
          },
          "metadata": {
            "tags": []
          },
          "execution_count": 23
        }
      ]
    },
    {
      "cell_type": "markdown",
      "metadata": {
        "id": "cz8qrIiPVgIJ",
        "colab_type": "text"
      },
      "source": [
        "### Edakkode village is facing poor quality of drinking water as the pH value shows water is highly acidic in nature."
      ]
    },
    {
      "cell_type": "markdown",
      "metadata": {
        "id": "up3baRYi5VCS",
        "colab_type": "text"
      },
      "source": [
        "### Predicting the region with lowest water level"
      ]
    },
    {
      "cell_type": "code",
      "metadata": {
        "id": "2uBi9NMWVXp-",
        "colab_type": "code",
        "colab": {}
      },
      "source": [
        "means1 = dataset.groupby('Places')['total'].mean()"
      ],
      "execution_count": null,
      "outputs": []
    },
    {
      "cell_type": "code",
      "metadata": {
        "id": "44maiDTnXpEV",
        "colab_type": "code",
        "colab": {
          "base_uri": "https://localhost:8080/",
          "height": 104
        },
        "outputId": "8d1f9d49-9141-4d73-a4e6-3c08b8870af2"
      },
      "source": [
        "means1"
      ],
      "execution_count": null,
      "outputs": [
        {
          "output_type": "execute_result",
          "data": {
            "text/plain": [
              "Places\n",
              "Edakkode       537.200000\n",
              "Kottukal       478.658537\n",
              "Piripincode    503.894737\n",
              "Name: total, dtype: float64"
            ]
          },
          "metadata": {
            "tags": []
          },
          "execution_count": 25
        }
      ]
    },
    {
      "cell_type": "markdown",
      "metadata": {
        "id": "6d1Kqy79X4ur",
        "colab_type": "text"
      },
      "source": [
        "\n",
        "### Kottukal village is facing mild water shortage."
      ]
    }
  ]
}